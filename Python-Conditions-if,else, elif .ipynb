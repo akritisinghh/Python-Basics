{
 "cells": [
  {
   "cell_type": "code",
   "execution_count": 2,
   "id": "b08cc557",
   "metadata": {},
   "outputs": [
    {
     "name": "stdout",
     "output_type": "stream",
     "text": [
      "this is my first condition\n"
     ]
    }
   ],
   "source": [
    "a =10\n",
    "if a == 10:\n",
    "    print(\"this is my first condition\")\n"
   ]
  },
  {
   "cell_type": "code",
   "execution_count": 3,
   "id": "9b9ef98d",
   "metadata": {},
   "outputs": [],
   "source": [
    "a =10\n",
    "if a == 11:\n",
    "    print(\"this is my first condition\")"
   ]
  },
  {
   "cell_type": "code",
   "execution_count": 5,
   "id": "960d3b1f",
   "metadata": {},
   "outputs": [],
   "source": [
    "a =10\n",
    "if a > 5:\n",
    "    pass"
   ]
  },
  {
   "cell_type": "code",
   "execution_count": 6,
   "id": "b74323bd",
   "metadata": {},
   "outputs": [
    {
     "name": "stdout",
     "output_type": "stream",
     "text": [
      "this is my first condition\n"
     ]
    }
   ],
   "source": [
    "a =10\n",
    "if a > 8:\n",
    "    print(\"this is my first condition\")"
   ]
  },
  {
   "cell_type": "code",
   "execution_count": 7,
   "id": "04b61145",
   "metadata": {},
   "outputs": [],
   "source": [
    "a= 10\n",
    "if a < 8:\n",
    "    print(\"condition is not true\")"
   ]
  },
  {
   "cell_type": "code",
   "execution_count": 8,
   "id": "22d01747",
   "metadata": {},
   "outputs": [
    {
     "name": "stdout",
     "output_type": "stream",
     "text": [
      "my condition is not true\n"
     ]
    }
   ],
   "source": [
    "a = 10\n",
    "if a != 11:\n",
    "    print(\"my condition is not true\")\n",
    "else:\n",
    "    print(\"print this\")"
   ]
  },
  {
   "cell_type": "code",
   "execution_count": 9,
   "id": "be69bfe5",
   "metadata": {},
   "outputs": [
    {
     "name": "stdout",
     "output_type": "stream",
     "text": [
      "print this\n"
     ]
    }
   ],
   "source": [
    "a = 10\n",
    "if a == 11:\n",
    "    print(\"my condition is not true\")\n",
    "else:\n",
    "    print(\"print this\")"
   ]
  },
  {
   "cell_type": "code",
   "execution_count": 11,
   "id": "39f945ae",
   "metadata": {},
   "outputs": [
    {
     "name": "stdout",
     "output_type": "stream",
     "text": [
      "if all the blocks fail then print this\n"
     ]
    }
   ],
   "source": [
    "a = 10\n",
    "if a==12:\n",
    "    print(\"we are trying to compare 10 with 12\")\n",
    "elif a==11:\n",
    "    print(\"we are trying to compare 10 with 11\")\n",
    "else :\n",
    "    print (\"if all the blocks fail then print this\")"
   ]
  },
  {
   "cell_type": "code",
   "execution_count": 13,
   "id": "47070eda",
   "metadata": {},
   "outputs": [
    {
     "name": "stdout",
     "output_type": "stream",
     "text": [
      "we are trying to compare 10 with 10\n"
     ]
    }
   ],
   "source": [
    "a = 10\n",
    "if a==12:\n",
    "    print(\"we are trying to compare 10 with 12\")\n",
    "elif a==10:\n",
    "    print(\"we are trying to compare 10 with 10\")\n",
    "else :\n",
    "    print (\"if all the blocks fail then print this\")"
   ]
  },
  {
   "cell_type": "code",
   "execution_count": 16,
   "id": "1681a858",
   "metadata": {},
   "outputs": [
    {
     "name": "stdout",
     "output_type": "stream",
     "text": [
      "Can Buy new Jacket\n"
     ]
    }
   ],
   "source": [
    "price = 500\n",
    "if price > 500:\n",
    "    print(\"Can't buy jacket\")\n",
    "elif price <= 500:\n",
    "    print(\"Can Buy new Jacket\")\n"
   ]
  },
  {
   "cell_type": "code",
   "execution_count": 17,
   "id": "1d3322b1",
   "metadata": {},
   "outputs": [
    {
     "ename": "SyntaxError",
     "evalue": "invalid syntax (Temp/ipykernel_24736/2250688673.py, line 6)",
     "output_type": "error",
     "traceback": [
      "\u001b[1;36m  File \u001b[1;32m\"C:\\Users\\Lenovo\\AppData\\Local\\Temp/ipykernel_24736/2250688673.py\"\u001b[1;36m, line \u001b[1;32m6\u001b[0m\n\u001b[1;33m    else price == 500:\u001b[0m\n\u001b[1;37m         ^\u001b[0m\n\u001b[1;31mSyntaxError\u001b[0m\u001b[1;31m:\u001b[0m invalid syntax\n"
     ]
    }
   ],
   "source": [
    "price = 500\n",
    "if price > 500:\n",
    "    print(\"Can't buy jacket\")\n",
    "elif price <= 500:\n",
    "    print(\"Can Buy new Jacket\")\n",
    "else price == 500:\n",
    "    print (\"It will not work bcz we can not mention condition with else\")"
   ]
  },
  {
   "cell_type": "code",
   "execution_count": 19,
   "id": "008ff72a",
   "metadata": {},
   "outputs": [
    {
     "name": "stdout",
     "output_type": "stream",
     "text": [
      "For sure I will buy a Jacket\n"
     ]
    }
   ],
   "source": [
    "price = 500\n",
    "if price > 500:\n",
    "    print(\"Can't buy jacket\")\n",
    "elif price <500:\n",
    "    print(\"Can Buy new Jacket\")\n",
    "elif price == 500:\n",
    "    print (\"For sure I will buy a Jacket\")\n",
    "else:\n",
    "    print (\"lets see\")"
   ]
  },
  {
   "cell_type": "code",
   "execution_count": 21,
   "id": "017396bc",
   "metadata": {},
   "outputs": [
    {
     "data": {
      "text/plain": [
       "True"
      ]
     },
     "execution_count": 21,
     "metadata": {},
     "output_type": "execute_result"
    }
   ],
   "source": [
    "l = [1,2,3,4,5,6,7,8]\n",
    "2 in l "
   ]
  },
  {
   "cell_type": "code",
   "execution_count": 22,
   "id": "dfdb8380",
   "metadata": {},
   "outputs": [
    {
     "name": "stdout",
     "output_type": "stream",
     "text": [
      "perform this task\n"
     ]
    }
   ],
   "source": [
    "if 2 in l :\n",
    "    print(\"perform this task\")\n",
    "else:\n",
    "    print(\"Avoid task\")"
   ]
  },
  {
   "cell_type": "code",
   "execution_count": 23,
   "id": "1d05fcf3",
   "metadata": {},
   "outputs": [
    {
     "data": {
      "text/plain": [
       "False"
      ]
     },
     "execution_count": 23,
     "metadata": {},
     "output_type": "execute_result"
    }
   ],
   "source": [
    "60 in l"
   ]
  },
  {
   "cell_type": "code",
   "execution_count": 24,
   "id": "500ce3c6",
   "metadata": {},
   "outputs": [
    {
     "name": "stdout",
     "output_type": "stream",
     "text": [
      "do addition\n"
     ]
    }
   ],
   "source": [
    "if 1 in l:\n",
    "    print(\"do addition\")\n",
    "elif 2 in l:\n",
    "    print(\"do sub\")\n",
    "elif 3 in l:\n",
    "    print(\"do multiplication\")   # if allt conditions are true then if loop will execute first condition "
   ]
  },
  {
   "cell_type": "code",
   "execution_count": 26,
   "id": "6002d68c",
   "metadata": {},
   "outputs": [
    {
     "name": "stdout",
     "output_type": "stream",
     "text": [
      "do sub\n"
     ]
    }
   ],
   "source": [
    "if 10 in l:\n",
    "    print(\"do addition\")\n",
    "elif 2 in l:\n",
    "    print(\"do sub\")\n",
    "elif 3 in l:\n",
    "    print(\"do multiplication\")  "
   ]
  },
  {
   "cell_type": "code",
   "execution_count": 27,
   "id": "884b5749",
   "metadata": {},
   "outputs": [
    {
     "name": "stdout",
     "output_type": "stream",
     "text": [
      "do sub\n",
      "this is a new condition\n"
     ]
    }
   ],
   "source": [
    "if 10 in l:\n",
    "    print(\"do addition\")\n",
    "elif 2 in l:\n",
    "    print(\"do sub\")\n",
    "elif 3 in l:\n",
    "    print(\"do multiplication\")  \n",
    "if 4 in l:                                             # loop will consider it as new condition/block\n",
    "    print(\"this is a new condition\")"
   ]
  },
  {
   "cell_type": "code",
   "execution_count": 29,
   "id": "04f2228c",
   "metadata": {},
   "outputs": [
    {
     "name": "stdout",
     "output_type": "stream",
     "text": [
      "400\n"
     ]
    }
   ],
   "source": [
    "a = 400\n",
    "a1 = input()        # we take input from user and it take data in string format"
   ]
  },
  {
   "cell_type": "code",
   "execution_count": 30,
   "id": "7cbede46",
   "metadata": {},
   "outputs": [
    {
     "data": {
      "text/plain": [
       "str"
      ]
     },
     "execution_count": 30,
     "metadata": {},
     "output_type": "execute_result"
    }
   ],
   "source": [
    "type(b)"
   ]
  },
  {
   "cell_type": "code",
   "execution_count": 32,
   "id": "fa2c55f4",
   "metadata": {},
   "outputs": [
    {
     "name": "stdout",
     "output_type": "stream",
     "text": [
      "400\n"
     ]
    }
   ],
   "source": [
    "b = int(input())"
   ]
  },
  {
   "cell_type": "code",
   "execution_count": 33,
   "id": "0e4954b4",
   "metadata": {},
   "outputs": [
    {
     "data": {
      "text/plain": [
       "int"
      ]
     },
     "execution_count": 33,
     "metadata": {},
     "output_type": "execute_result"
    }
   ],
   "source": [
    "type(b)"
   ]
  },
  {
   "cell_type": "code",
   "execution_count": 41,
   "id": "39185e52",
   "metadata": {},
   "outputs": [
    {
     "name": "stdout",
     "output_type": "stream",
     "text": [
      "89\n",
      "I will buy a Jacket\n",
      "I will buy a Shirt\n"
     ]
    }
   ],
   "source": [
    "price = int(input())\n",
    "if price < 500:\n",
    "    print(\"I will buy a Jacket\")\n",
    "    if price < 400 :\n",
    "        print (\"I will buy a Shirt\")\n",
    "    elif price < 300:\n",
    "        print(\"I will buy a T-shirt\")\n",
    "    else:\n",
    "        print(\"I will not buy any thing\")\n",
    "else :\n",
    "    print(\"Better luck next time\")"
   ]
  },
  {
   "cell_type": "code",
   "execution_count": 44,
   "id": "7a4b2187",
   "metadata": {},
   "outputs": [
    {
     "name": "stdout",
     "output_type": "stream",
     "text": [
      "700\n",
      "Better luck next time\n",
      "lets buy Shoes\n"
     ]
    }
   ],
   "source": [
    "price = int(input())\n",
    "if price < 500:\n",
    "    print(\"I will buy a Jacket\")\n",
    "    if price < 400 :\n",
    "        print (\"I will buy a Shirt\")\n",
    "    elif price < 300:\n",
    "        print(\"I will buy a T-shirt\")\n",
    "        if price < 200:\n",
    "            print(\"i can eat something\")\n",
    "    else:\n",
    "        print(\"I will not buy any thing\")\n",
    "else :\n",
    "    print(\"Better luck next time\")\n",
    "    \n",
    "if price > 500:\n",
    "    print(\"lets buy Shoes\")"
   ]
  },
  {
   "cell_type": "code",
   "execution_count": 57,
   "id": "daada52a",
   "metadata": {},
   "outputs": [
    {
     "name": "stdout",
     "output_type": "stream",
     "text": [
      "340\n",
      "GRE is not pass\n",
      "your TOFEL is pass\n"
     ]
    }
   ],
   "source": [
    "marks = int(input())\n",
    "if marks > 600:\n",
    "    print(\"Your GRE is pass\")\n",
    "if marks < 600:\n",
    "    print(\"GRE is not pass\")\n",
    "if marks < 500:\n",
    "    print(\"your TOFEL is pass\")\n",
    "elif marks < 400:\n",
    "    print(\"try again\")\n",
    "else:\n",
    "    print(\"Please try something else\")"
   ]
  },
  {
   "cell_type": "code",
   "execution_count": 68,
   "id": "c2a4c3da",
   "metadata": {},
   "outputs": [
    {
     "name": "stdout",
     "output_type": "stream",
     "text": [
      "300\n",
      "GRE is not pass\n",
      "your TOFEL is pass\n"
     ]
    }
   ],
   "source": [
    "marks = int(input())\n",
    "if marks > 600:\n",
    "    print(\"Your GRE is pass\")\n",
    "if marks < 600:\n",
    "    print(\"GRE is not pass\")\n",
    "    if marks < 500:\n",
    "        print(\"your TOFEL is pass\")\n",
    "    elif marks < 400:\n",
    "        print(\"try again\")\n",
    "else:\n",
    "    print(\"Next time\")\n"
   ]
  },
  {
   "cell_type": "code",
   "execution_count": 74,
   "id": "7ccb392b",
   "metadata": {},
   "outputs": [
    {
     "name": "stdout",
     "output_type": "stream",
     "text": [
      "Enter your number: 7\n",
      "Entered value is a +ve number\n"
     ]
    }
   ],
   "source": [
    "val = float(input(\"Enter your number: \"))\n",
    "if val >= 0:\n",
    "    if val == 0:\n",
    "        print(\"Entered Value is Zero\")\n",
    "    else:\n",
    "        print(\"Entered value is a +ve number\")\n",
    "else:\n",
    "    print(\"Entered value is a -Ve number\")\n",
    "          "
   ]
  },
  {
   "cell_type": "code",
   "execution_count": 76,
   "id": "9faa06bd",
   "metadata": {},
   "outputs": [
    {
     "name": "stdout",
     "output_type": "stream",
     "text": [
      "Try to print something\n"
     ]
    }
   ],
   "source": [
    "a = 10\n",
    "if a<10 or a ==10 :          # or operation(+) F+T = T,T+F =T F+F =F T+T =T   : F=0  T=1\n",
    "    print(\"Try to print something\")"
   ]
  },
  {
   "cell_type": "code",
   "execution_count": 77,
   "id": "90c239b1",
   "metadata": {},
   "outputs": [],
   "source": [
    "a = 199\n",
    "if a<10 or a ==10 :          \n",
    "    print(\"Try to print something\")"
   ]
  },
  {
   "cell_type": "code",
   "execution_count": 78,
   "id": "eee894d6",
   "metadata": {},
   "outputs": [],
   "source": [
    "a = 10\n",
    "if a<10 and a ==10 :          # AND operation(*) F*T = F,T*F =F F*F =F T*T =T  : F=0  T=1\n",
    "    print(\"Try to print something\")"
   ]
  },
  {
   "cell_type": "code",
   "execution_count": 79,
   "id": "b5e3e23f",
   "metadata": {},
   "outputs": [
    {
     "name": "stdout",
     "output_type": "stream",
     "text": [
      "Try to print something\n"
     ]
    }
   ],
   "source": [
    "a = 10\n",
    "if a<=10 and a ==10 :         \n",
    "    print(\"Try to print something\")"
   ]
  },
  {
   "cell_type": "code",
   "execution_count": 82,
   "id": "699c196b",
   "metadata": {},
   "outputs": [],
   "source": [
    "a = \"Akriti\"\n",
    "if a ==\"akriti\" and a==\"Akriti\":\n",
    "    print (\"This is a simple AND condition with both True condition\")"
   ]
  },
  {
   "cell_type": "code",
   "execution_count": 81,
   "id": "14f4f8a1",
   "metadata": {},
   "outputs": [
    {
     "name": "stdout",
     "output_type": "stream",
     "text": [
      "This is a simple AND condition with both True condition\n"
     ]
    }
   ],
   "source": [
    "a = \"Akriti\"\n",
    "if a ==\"Akriti\" and a==\"Akriti\":\n",
    "    print (\"This is a simple AND condition with both True condition\")"
   ]
  },
  {
   "cell_type": "code",
   "execution_count": 84,
   "id": "1051e3d5",
   "metadata": {
    "scrolled": true
   },
   "outputs": [
    {
     "name": "stdout",
     "output_type": "stream",
     "text": [
      "This is a simple OR condition with both True condition\n"
     ]
    }
   ],
   "source": [
    "a = \"Akriti\"\n",
    "if a ==\"akriti\" or a==\"Akriti\":\n",
    "    print (\"This is a simple OR condition with both True condition\")"
   ]
  },
  {
   "cell_type": "code",
   "execution_count": 86,
   "id": "bad9318a",
   "metadata": {},
   "outputs": [],
   "source": [
    "a = 10\n",
    "b = 11\n",
    "c = 12\n",
    "d = 13\n",
    "if a == 9 and b == 11 and c == 12 and d==13:\n",
    "    print(\"Lets try some more examples\")"
   ]
  },
  {
   "cell_type": "code",
   "execution_count": 87,
   "id": "d9b09f2a",
   "metadata": {},
   "outputs": [
    {
     "name": "stdout",
     "output_type": "stream",
     "text": [
      "Lets try some more examples\n"
     ]
    }
   ],
   "source": [
    "a = 10\n",
    "b = 11\n",
    "c = 12\n",
    "d = 13\n",
    "if a == 9 or b == 11 and c == 12 and d==13:\n",
    "    print(\"Lets try some more examples\")"
   ]
  },
  {
   "cell_type": "code",
   "execution_count": 92,
   "id": "9a826454",
   "metadata": {},
   "outputs": [],
   "source": [
    "d = {'key1': \"value\", 'key2': \"Python\", 'key3': \"condition\"}"
   ]
  },
  {
   "cell_type": "code",
   "execution_count": 93,
   "id": "97ef7a75",
   "metadata": {},
   "outputs": [
    {
     "name": "stdout",
     "output_type": "stream",
     "text": [
      "all values are verified\n",
      "dict_values(['value', 'Python', 'condition'])\n"
     ]
    }
   ],
   "source": [
    "if d['key1']== \"value\" and d['key2']==\"Python\" and d['key3']== \"condition\":\n",
    "    print(\"all values are verified\")\n",
    "    print (d.values())"
   ]
  },
  {
   "cell_type": "code",
   "execution_count": 94,
   "id": "805c968d",
   "metadata": {},
   "outputs": [
    {
     "name": "stdout",
     "output_type": "stream",
     "text": [
      "values are not verified\n"
     ]
    }
   ],
   "source": [
    "if d['key1']== \"V-alue\" and d['key2']==\"Python\" and d['key3']== \"condition\":\n",
    "    print(\"all values are verified\")\n",
    "    print (d.values())\n",
    "else:\n",
    "    print (\"values are not verified\")"
   ]
  },
  {
   "cell_type": "markdown",
   "id": "6955819d",
   "metadata": {},
   "source": [
    "# Loop-for While"
   ]
  },
  {
   "cell_type": "code",
   "execution_count": 95,
   "id": "0b8f0615",
   "metadata": {},
   "outputs": [
    {
     "data": {
      "text/plain": [
       "1"
      ]
     },
     "execution_count": 95,
     "metadata": {},
     "output_type": "execute_result"
    }
   ],
   "source": [
    "l = [1,2,3,4,\"Akki\", 678.8]\n",
    "l[0]"
   ]
  },
  {
   "cell_type": "code",
   "execution_count": 96,
   "id": "e4870976",
   "metadata": {},
   "outputs": [
    {
     "name": "stdout",
     "output_type": "stream",
     "text": [
      "1\n",
      "2\n",
      "3\n",
      "4\n",
      "Akki\n",
      "678.8\n"
     ]
    }
   ],
   "source": [
    "for i in l :\n",
    "    print(i)"
   ]
  },
  {
   "cell_type": "code",
   "execution_count": 97,
   "id": "fb6a3a02",
   "metadata": {},
   "outputs": [
    {
     "data": {
      "text/plain": [
       "[1, 2, 3, 4, 'Akki', 678.8]"
      ]
     },
     "execution_count": 97,
     "metadata": {},
     "output_type": "execute_result"
    }
   ],
   "source": [
    "l"
   ]
  },
  {
   "cell_type": "code",
   "execution_count": 98,
   "id": "b83bae04",
   "metadata": {},
   "outputs": [
    {
     "name": "stdout",
     "output_type": "stream",
     "text": [
      "2\n",
      "3\n",
      "4\n",
      "5\n"
     ]
    },
    {
     "ename": "TypeError",
     "evalue": "can only concatenate str (not \"int\") to str",
     "output_type": "error",
     "traceback": [
      "\u001b[1;31m---------------------------------------------------------------------------\u001b[0m",
      "\u001b[1;31mTypeError\u001b[0m                                 Traceback (most recent call last)",
      "\u001b[1;32m~\\AppData\\Local\\Temp/ipykernel_24736/918082190.py\u001b[0m in \u001b[0;36m<module>\u001b[1;34m\u001b[0m\n\u001b[0;32m      1\u001b[0m \u001b[1;32mfor\u001b[0m \u001b[0mi\u001b[0m \u001b[1;32min\u001b[0m \u001b[0ml\u001b[0m \u001b[1;33m:\u001b[0m\u001b[1;33m\u001b[0m\u001b[1;33m\u001b[0m\u001b[0m\n\u001b[1;32m----> 2\u001b[1;33m     \u001b[0mprint\u001b[0m\u001b[1;33m(\u001b[0m\u001b[0mi\u001b[0m\u001b[1;33m+\u001b[0m\u001b[1;36m1\u001b[0m\u001b[1;33m)\u001b[0m\u001b[1;33m\u001b[0m\u001b[1;33m\u001b[0m\u001b[0m\n\u001b[0m",
      "\u001b[1;31mTypeError\u001b[0m: can only concatenate str (not \"int\") to str"
     ]
    }
   ],
   "source": [
    "for i in l :\n",
    "    print(i+1)"
   ]
  },
  {
   "cell_type": "code",
   "execution_count": 100,
   "id": "3e62423d",
   "metadata": {},
   "outputs": [
    {
     "name": "stdout",
     "output_type": "stream",
     "text": [
      "2\n",
      "3\n",
      "4\n",
      "5\n",
      "Akki1\n",
      "679.8\n"
     ]
    }
   ],
   "source": [
    "for i in l:\n",
    "    if type(i)== int or type(i)==float:\n",
    "        print(i+1)\n",
    "    elif type(i)==str:\n",
    "        print(i + str(1))"
   ]
  },
  {
   "cell_type": "code",
   "execution_count": 107,
   "id": "1f9406a9",
   "metadata": {},
   "outputs": [
    {
     "name": "stdout",
     "output_type": "stream",
     "text": [
      "[1, 2, 3, 4]\n"
     ]
    }
   ],
   "source": [
    "l1 = []\n",
    "for i in l:\n",
    "    if type (i) == int:\n",
    "        l1.append(i)\n",
    "print(l1)"
   ]
  },
  {
   "cell_type": "code",
   "execution_count": 106,
   "id": "3d952af5",
   "metadata": {},
   "outputs": [
    {
     "data": {
      "text/plain": [
       "[1, 2, 3, 4]"
      ]
     },
     "execution_count": 106,
     "metadata": {},
     "output_type": "execute_result"
    }
   ],
   "source": []
  },
  {
   "cell_type": "code",
   "execution_count": null,
   "id": "28727044",
   "metadata": {},
   "outputs": [],
   "source": []
  }
 ],
 "metadata": {
  "kernelspec": {
   "display_name": "Python 3 (ipykernel)",
   "language": "python",
   "name": "python3"
  },
  "language_info": {
   "codemirror_mode": {
    "name": "ipython",
    "version": 3
   },
   "file_extension": ".py",
   "mimetype": "text/x-python",
   "name": "python",
   "nbconvert_exporter": "python",
   "pygments_lexer": "ipython3",
   "version": "3.9.7"
  }
 },
 "nbformat": 4,
 "nbformat_minor": 5
}
