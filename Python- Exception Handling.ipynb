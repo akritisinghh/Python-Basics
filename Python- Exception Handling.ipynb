{
 "cells": [
  {
   "cell_type": "markdown",
   "id": "816cf900",
   "metadata": {},
   "source": [
    "# Exception Handling"
   ]
  },
  {
   "cell_type": "markdown",
   "id": "b7ac9962",
   "metadata": {},
   "source": [
    "Difference between Exception and Error\n",
    "\n",
    "In Python, both errors and exceptions refer to situations where the execution of a program encounters a problem or an unexpected condition. However, there is a distinction between the two terms:\n",
    "\n",
    "Error: An error in Python generally refers to a more severe problem that prevents the program from executing further. Errors are typically caused by faults in the program's logic, such as syntax errors or logical errors. When an error occurs, the program is unable to continue running, and it terminates immediately. Examples of errors in Python include SyntaxError, NameError, and TypeError.\n",
    "\n",
    "Exception: An exception, on the other hand, is an event that occurs during the execution of a program that disrupts the normal flow of the program but can be handled and recovered from. Exceptions are raised when an error occurs in a specific piece of code, but the program has mechanisms in place to catch and handle these exceptions. By using exception handling, you can gracefully handle errors and continue executing the program. Examples of exceptions in Python include ValueError, IndexError, and FileNotFoundError.\n",
    "\n",
    "To summarize, errors are typically more serious and result in program termination, while exceptions are raised in specific situations and can be caught and handled to allow the program to continue running. Exception handling is an important aspect of Python programming as it helps to handle unexpected conditions and improve the robustness of the code."
   ]
  },
  {
   "cell_type": "markdown",
   "id": "b62ff6a3",
   "metadata": {},
   "source": [
    "Type of errors we receive in python: 1.Run type error-exceptional handling 2.complie error-syntax error\n",
    "\n",
    "Python Source code-->Complier-->Byte code-->Interpreter\n",
    "Run type error occurs at Interpreter\n",
    "compile error-syntax error occurs at Compiler"
   ]
  },
  {
   "cell_type": "markdown",
   "id": "b47c7eae",
   "metadata": {},
   "source": [
    "#Why we do exception handling:\n",
    "\n",
    "-bcz code will not run with error\n",
    "-and its user friendly\n",
    "there are few key word that helps in exception handling: try, except,else, raise,finally"
   ]
  },
  {
   "cell_type": "code",
   "execution_count": null,
   "id": "0ca82db4",
   "metadata": {},
   "outputs": [],
   "source": [
    "try\n",
    "except\n",
    "else\n",
    "raise\n",
    "finally"
   ]
  },
  {
   "cell_type": "code",
   "execution_count": 1,
   "id": "c1407957",
   "metadata": {},
   "outputs": [
    {
     "name": "stdout",
     "output_type": "stream",
     "text": [
      "30\n"
     ]
    }
   ],
   "source": [
    "a = 10\n",
    "b = 20\n",
    "c = a+b\n",
    "print(c)"
   ]
  },
  {
   "cell_type": "code",
   "execution_count": 2,
   "id": "930a44ce",
   "metadata": {},
   "outputs": [
    {
     "ename": "SyntaxError",
     "evalue": "unexpected EOF while parsing (Temp/ipykernel_18592/4245250004.py, line 6)",
     "output_type": "error",
     "traceback": [
      "\u001b[1;36m  File \u001b[1;32m\"C:\\Users\\Lenovo\\AppData\\Local\\Temp/ipykernel_18592/4245250004.py\"\u001b[1;36m, line \u001b[1;32m6\u001b[0m\n\u001b[1;33m    print(c\u001b[0m\n\u001b[1;37m              ^\u001b[0m\n\u001b[1;31mSyntaxError\u001b[0m\u001b[1;31m:\u001b[0m unexpected EOF while parsing\n"
     ]
    }
   ],
   "source": [
    "#SyntaxError-Compile type error\n",
    "\n",
    "a = 10\n",
    "b = 20\n",
    "c = a+b\n",
    "print(c   "
   ]
  },
  {
   "cell_type": "code",
   "execution_count": 3,
   "id": "b2cfd9e8",
   "metadata": {},
   "outputs": [
    {
     "ename": "TypeError",
     "evalue": "unsupported operand type(s) for +: 'int' and 'str'",
     "output_type": "error",
     "traceback": [
      "\u001b[1;31m---------------------------------------------------------------------------\u001b[0m",
      "\u001b[1;31mTypeError\u001b[0m                                 Traceback (most recent call last)",
      "\u001b[1;32m~\\AppData\\Local\\Temp/ipykernel_18592/45268167.py\u001b[0m in \u001b[0;36m<module>\u001b[1;34m\u001b[0m\n\u001b[0;32m      3\u001b[0m \u001b[0ma\u001b[0m \u001b[1;33m=\u001b[0m \u001b[1;36m10\u001b[0m\u001b[1;33m\u001b[0m\u001b[1;33m\u001b[0m\u001b[0m\n\u001b[0;32m      4\u001b[0m \u001b[0mb\u001b[0m \u001b[1;33m=\u001b[0m \u001b[1;34m'b'\u001b[0m\u001b[1;33m\u001b[0m\u001b[1;33m\u001b[0m\u001b[0m\n\u001b[1;32m----> 5\u001b[1;33m \u001b[0mc\u001b[0m \u001b[1;33m=\u001b[0m \u001b[0ma\u001b[0m\u001b[1;33m+\u001b[0m\u001b[0mb\u001b[0m\u001b[1;33m\u001b[0m\u001b[1;33m\u001b[0m\u001b[0m\n\u001b[0m\u001b[0;32m      6\u001b[0m \u001b[0mprint\u001b[0m\u001b[1;33m(\u001b[0m\u001b[0mc\u001b[0m\u001b[1;33m)\u001b[0m\u001b[1;33m\u001b[0m\u001b[1;33m\u001b[0m\u001b[0m\n",
      "\u001b[1;31mTypeError\u001b[0m: unsupported operand type(s) for +: 'int' and 'str'"
     ]
    }
   ],
   "source": [
    "#TypeError-Run time Error (here Syntax is right). Run time error is exception which can be handled\n",
    "\n",
    "a = 10\n",
    "b = 'b'\n",
    "c = a+b\n",
    "print(c) "
   ]
  },
  {
   "cell_type": "code",
   "execution_count": 4,
   "id": "e9087c5f",
   "metadata": {},
   "outputs": [],
   "source": [
    "try:\n",
    "    ##code block where exception can occur\n",
    "    a=b\n",
    "except:\n",
    "    print(\"Some problem may have occured\")"
   ]
  },
  {
   "cell_type": "code",
   "execution_count": 5,
   "id": "2a51cfd1",
   "metadata": {},
   "outputs": [],
   "source": [
    "try:\n",
    "    ##code block where exception can occur\n",
    "    a=b\n",
    "except Exception as ex:\n",
    "    print(ex)"
   ]
  },
  {
   "cell_type": "code",
   "execution_count": 6,
   "id": "88647a08",
   "metadata": {},
   "outputs": [],
   "source": [
    "try:\n",
    "    a=b\n",
    "except NameError as ex1:\n",
    "    print(\"the user have not defined the variable\")\n",
    "except Exception as ex:\n",
    "    print(ex)"
   ]
  },
  {
   "cell_type": "code",
   "execution_count": 7,
   "id": "9ec9c8c1",
   "metadata": {},
   "outputs": [
    {
     "name": "stdout",
     "output_type": "stream",
     "text": [
      "unsupported operand type(s) for +: 'int' and 'str'\n"
     ]
    }
   ],
   "source": [
    "try:\n",
    "    a=1\n",
    "    b='s'\n",
    "    c=a+b \n",
    "except NameError as ex1:\n",
    "    print(\"the user have not defined the variable\")\n",
    "except Exception as ex:\n",
    "    print(ex)"
   ]
  },
  {
   "cell_type": "code",
   "execution_count": 8,
   "id": "9837bda7",
   "metadata": {},
   "outputs": [
    {
     "ename": "TypeError",
     "evalue": "unsupported operand type(s) for +: 'int' and 'str'",
     "output_type": "error",
     "traceback": [
      "\u001b[1;31m---------------------------------------------------------------------------\u001b[0m",
      "\u001b[1;31mTypeError\u001b[0m                                 Traceback (most recent call last)",
      "\u001b[1;32m~\\AppData\\Local\\Temp/ipykernel_18592/1036772305.py\u001b[0m in \u001b[0;36m<module>\u001b[1;34m\u001b[0m\n\u001b[0;32m      1\u001b[0m \u001b[0ma\u001b[0m\u001b[1;33m=\u001b[0m\u001b[1;36m1\u001b[0m\u001b[1;33m\u001b[0m\u001b[1;33m\u001b[0m\u001b[0m\n\u001b[0;32m      2\u001b[0m \u001b[0mb\u001b[0m\u001b[1;33m=\u001b[0m\u001b[1;34m's'\u001b[0m\u001b[1;33m\u001b[0m\u001b[1;33m\u001b[0m\u001b[0m\n\u001b[1;32m----> 3\u001b[1;33m \u001b[0mc\u001b[0m\u001b[1;33m=\u001b[0m\u001b[0ma\u001b[0m\u001b[1;33m+\u001b[0m\u001b[0mb\u001b[0m\u001b[1;33m\u001b[0m\u001b[1;33m\u001b[0m\u001b[0m\n\u001b[0m\u001b[0;32m      4\u001b[0m \u001b[1;33m\u001b[0m\u001b[0m\n",
      "\u001b[1;31mTypeError\u001b[0m: unsupported operand type(s) for +: 'int' and 'str'"
     ]
    }
   ],
   "source": [
    "a=1\n",
    "b='s'\n",
    "c=a+b \n",
    "    "
   ]
  },
  {
   "cell_type": "code",
   "execution_count": 9,
   "id": "881047eb",
   "metadata": {},
   "outputs": [
    {
     "name": "stdout",
     "output_type": "stream",
     "text": [
      "Please make datatype similar\n"
     ]
    }
   ],
   "source": [
    "try:\n",
    "    a=1\n",
    "    b='s'\n",
    "    c=a+b \n",
    "except NameError:\n",
    "    print(\"the user have not defined the variable\")\n",
    "except TypeError:\n",
    "    print(\"Please make datatype similar\")\n",
    "except Exception as ex:\n",
    "    print(ex)"
   ]
  },
  {
   "cell_type": "code",
   "execution_count": 10,
   "id": "8dea609e",
   "metadata": {},
   "outputs": [
    {
     "name": "stdout",
     "output_type": "stream",
     "text": [
      "Enter the number1 3\n",
      "Enter the number2 5\n",
      "0.6\n",
      "15\n"
     ]
    }
   ],
   "source": [
    "a=int(input(\"Enter the number1 \"))\n",
    "b=int(input(\"Enter the number2 \"))\n",
    "c=a/b \n",
    "print(c)\n",
    "d=a*b\n",
    "print(d)"
   ]
  },
  {
   "cell_type": "code",
   "execution_count": 11,
   "id": "90e45d5e",
   "metadata": {},
   "outputs": [
    {
     "name": "stdout",
     "output_type": "stream",
     "text": [
      "enter first number 7\n",
      "enter second number 0\n",
      "b should not be a zero\n"
     ]
    }
   ],
   "source": [
    "a =int(input('enter first number '))\n",
    "b= int(input('enter second number '))\n",
    "\n",
    "try:\n",
    "    c=a/b\n",
    "    print(c)\n",
    "except ZeroDivisionError:\n",
    "    print(\"b should not be a zero\")"
   ]
  },
  {
   "cell_type": "code",
   "execution_count": 12,
   "id": "3efa5b89",
   "metadata": {},
   "outputs": [
    {
     "ename": "SyntaxError",
     "evalue": "unmatched ')' (Temp/ipykernel_18592/3058431154.py, line 8)",
     "output_type": "error",
     "traceback": [
      "\u001b[1;36m  File \u001b[1;32m\"C:\\Users\\Lenovo\\AppData\\Local\\Temp/ipykernel_18592/3058431154.py\"\u001b[1;36m, line \u001b[1;32m8\u001b[0m\n\u001b[1;33m    print(c))\u001b[0m\n\u001b[1;37m            ^\u001b[0m\n\u001b[1;31mSyntaxError\u001b[0m\u001b[1;31m:\u001b[0m unmatched ')'\n"
     ]
    }
   ],
   "source": [
    "# Syntax error can not be handled\n",
    "\n",
    "a =int(input('enter first number'))\n",
    "b= int(input('enter second number'))\n",
    "\n",
    "try:\n",
    "    c=a/b\n",
    "    print(c))         \n",
    "except :\n",
    "    print(\"wrong syntax\")\n",
    "d = a+b"
   ]
  },
  {
   "cell_type": "code",
   "execution_count": 13,
   "id": "515e79c3",
   "metadata": {},
   "outputs": [
    {
     "ename": "SyntaxError",
     "evalue": "invalid syntax (Temp/ipykernel_18592/1230777043.py, line 1)",
     "output_type": "error",
     "traceback": [
      "\u001b[1;36m  File \u001b[1;32m\"C:\\Users\\Lenovo\\AppData\\Local\\Temp/ipykernel_18592/1230777043.py\"\u001b[1;36m, line \u001b[1;32m1\u001b[0m\n\u001b[1;33m    Que:\u001b[0m\n\u001b[1;37m        ^\u001b[0m\n\u001b[1;31mSyntaxError\u001b[0m\u001b[1;31m:\u001b[0m invalid syntax\n"
     ]
    }
   ],
   "source": [
    "Que:\n",
    "Write a program to ask the user to input 2 integers and calculate and print their division. \n",
    "Make sure your program behaves as follows:\n",
    "\n",
    "If the user enters a non integer value then ask him to enter only integers\n",
    "If denominator is 0 , then ask him to input non-zero denominator\n",
    "Repeat the process until correct input is given\n",
    "\n",
    "Only if the inputs are correct then display their division and terminate the code"
   ]
  },
  {
   "cell_type": "code",
   "execution_count": 14,
   "id": "94abd1ed",
   "metadata": {},
   "outputs": [
    {
     "name": "stdout",
     "output_type": "stream",
     "text": [
      "Write your name: 5\n",
      "Write your name: 0\n",
      "Write your name: i\n",
      "Write your name: Akriti\n",
      "Yes finally right name entered--> Akriti\n"
     ]
    }
   ],
   "source": [
    "while True:\n",
    "    name= input('Write your name: ')\n",
    "    if name==\"Akriti\":\n",
    "        print(\"Yes finally right name entered--> Akriti\")\n",
    "        break"
   ]
  },
  {
   "cell_type": "code",
   "execution_count": null,
   "id": "56ae6f23",
   "metadata": {},
   "outputs": [],
   "source": [
    "while True:\n",
    "    try:\n",
    "        a =int(input('enter first number '))\n",
    "        b= int(input('enter second number '))\n",
    "        c=a/b\n",
    "        print(c)\n",
    "        break\n",
    "        \n",
    "    except ValueError:\n",
    "        print(\"Please make datatype similar\")\n",
    "    except ZeroDivisionError:\n",
    "        print(\"b should not be a zero\")"
   ]
  },
  {
   "cell_type": "code",
   "execution_count": 19,
   "id": "bd70799a",
   "metadata": {},
   "outputs": [
    {
     "name": "stdout",
     "output_type": "stream",
     "text": [
      "1st Number : 5\n",
      "2st Number : 8\n",
      "div: 0.625\n"
     ]
    }
   ],
   "source": [
    "while True:\n",
    "    try:\n",
    "        a = int(input(\"1st Number : \"))\n",
    "        b = int(input(\"2st Number : \"))\n",
    "        c=a/b\n",
    "        print(\"div:\",c)\n",
    "        break\n",
    "    except ZeroDivisionError as e:\n",
    "        print(e)"
   ]
  },
  {
   "cell_type": "code",
   "execution_count": null,
   "id": "6336a638",
   "metadata": {},
   "outputs": [],
   "source": [
    "a =int(input('enter first number '))\n",
    "b= int(input('enter second number '))\n",
    "\n",
    "try:\n",
    "    c=a/b\n",
    "    print(c)              #class-zerodivisionerror\n",
    "except:\n",
    "    print(\"b should not be a zero\")"
   ]
  },
  {
   "cell_type": "code",
   "execution_count": 15,
   "id": "a94a0077",
   "metadata": {},
   "outputs": [
    {
     "name": "stdout",
     "output_type": "stream",
     "text": [
      "Enter the number1 12\n",
      "Enter the number2 0\n",
      "Please provide number greater than zero\n"
     ]
    }
   ],
   "source": [
    "try:\n",
    "    a=int(input(\"Enter the number1 \"))\n",
    "    b=int(input(\"Enter the number2 \"))\n",
    "    c=a/b \n",
    "    d=a*b\n",
    "    e= a+b\n",
    "    print(c)\n",
    "    print(d)\n",
    "    print(e)\n",
    "except NameError:\n",
    "    print(\"the user have not defined the variable\")\n",
    "except TypeError:\n",
    "    print(\"Please make datatype similar\")\n",
    "except ZeroDivisionError:\n",
    "    print(\"Please provide number greater than zero\")\n",
    "except Exception as ex:\n",
    "    print(ex)"
   ]
  },
  {
   "cell_type": "code",
   "execution_count": 21,
   "id": "2cd3e47f",
   "metadata": {},
   "outputs": [
    {
     "name": "stdout",
     "output_type": "stream",
     "text": [
      "Enter the number1 5\n",
      "Enter the number2 0\n",
      "the user have not defined the variable or Please provide number greater than zero\n"
     ]
    }
   ],
   "source": [
    "try:\n",
    "    a=int(input(\"Enter the number1 \"))\n",
    "    b=int(input(\"Enter the number2 \"))\n",
    "    c=a/b \n",
    "    d=a*b\n",
    "    e= a+b\n",
    "    print(c)\n",
    "    print(d)\n",
    "    print(e)\n",
    "except (NameError,ZeroDivisionError) :\n",
    "    print(\"the user have not defined the variable or Please provide number greater than zero\")"
   ]
  },
  {
   "cell_type": "code",
   "execution_count": 22,
   "id": "e4572f17",
   "metadata": {},
   "outputs": [
    {
     "name": "stdout",
     "output_type": "stream",
     "text": [
      "Enter the number1 5\n",
      "Enter the number2 7\n",
      "Please make datatype similar\n"
     ]
    }
   ],
   "source": [
    "try:\n",
    "    a=int(input(\"Enter the number1 \"))\n",
    "    b=int(input(\"Enter the number2 \"))\n",
    "    e= a+str(b)\n",
    "    print(e)\n",
    "except TypeError:\n",
    "    print(\"Please make datatype similar\")"
   ]
  },
  {
   "cell_type": "code",
   "execution_count": 1,
   "id": "0b2f2418",
   "metadata": {},
   "outputs": [
    {
     "name": "stdout",
     "output_type": "stream",
     "text": [
      "Enter the number1 12\n",
      "Enter the number2 4\n",
      "3.0\n",
      "48\n",
      "16\n"
     ]
    }
   ],
   "source": [
    "##try else block\n",
    "try:\n",
    "    a=int(input(\"Enter the number1 \"))\n",
    "    b=int(input(\"Enter the number2 \"))\n",
    "    c=a/b \n",
    "    d=a*b\n",
    "    e= a+b\n",
    "except NameError:\n",
    "    print(\"the user have not defined the variable\")\n",
    "except TypeError:\n",
    "    print(\"Please make datatype similar\")\n",
    "except ZeroDivisionError:\n",
    "    print(\"Please provide number greater than zero\")\n",
    "except Exception as ex:\n",
    "    print(ex)\n",
    "else:\n",
    "    print(c)\n",
    "    print(d)\n",
    "    print(e)"
   ]
  },
  {
   "cell_type": "code",
   "execution_count": 2,
   "id": "84ae6f01",
   "metadata": {},
   "outputs": [
    {
     "name": "stdout",
     "output_type": "stream",
     "text": [
      "Enter the number1 12\n",
      "Enter the number2 0\n",
      "Please provide number greater than zero\n",
      "The execution done\n"
     ]
    }
   ],
   "source": [
    "# try else finally\n",
    "try:\n",
    "    a=int(input(\"Enter the number1 \"))\n",
    "    b=int(input(\"Enter the number2 \"))\n",
    "    c=a/b \n",
    "    d=a*b\n",
    "    e= a+b\n",
    "except NameError:\n",
    "    print(\"the user have not defined the variable\")\n",
    "except TypeError:\n",
    "    print(\"Please make datatype similar\")\n",
    "except ZeroDivisionError:\n",
    "    print(\"Please provide number greater than zero\")\n",
    "except Exception as ex:\n",
    "    print(ex)\n",
    "else:\n",
    "    print(c)\n",
    "    print(d)\n",
    "    print(e)\n",
    "finally:\n",
    "    print(\"The execution done\")"
   ]
  },
  {
   "cell_type": "code",
   "execution_count": null,
   "id": "eb4b7d19",
   "metadata": {},
   "outputs": [
    {
     "name": "stdout",
     "output_type": "stream",
     "text": [
      "1st Number: 6\n",
      "2st Number: 0\n",
      "(<class 'ZeroDivisionError'>, ZeroDivisionError('division by zero'), <traceback object at 0x000001E12FA55A40>)\n"
     ]
    }
   ],
   "source": [
    "import sys\n",
    "while True:\n",
    "    try:\n",
    "        a = int(input(\"1st Number: \"))\n",
    "        b = int(input(\"2st Number: \"))\n",
    "        c=a/b\n",
    "        print(\"div:\",c)\n",
    "        break\n",
    "    except:\n",
    "        print(sys.exc_info()) "
   ]
  },
  {
   "cell_type": "code",
   "execution_count": null,
   "id": "ed4ff335",
   "metadata": {},
   "outputs": [],
   "source": [
    "#import sys.exc.info()\n",
    "import traceback.format_exc()\n"
   ]
  },
  {
   "cell_type": "code",
   "execution_count": null,
   "id": "9aa3c571",
   "metadata": {},
   "outputs": [
    {
     "name": "stdout",
     "output_type": "stream",
     "text": [
      "1st Number: 7\n",
      "2st Number: 0\n",
      "Traceback (most recent call last):\n",
      "  File \"C:\\Users\\Lenovo\\AppData\\Local\\Temp/ipykernel_8672/1068191874.py\", line 6, in <module>\n",
      "    c=a/b\n",
      "ZeroDivisionError: division by zero\n",
      "\n"
     ]
    }
   ],
   "source": [
    "import traceback\n",
    "while True:\n",
    "    try:\n",
    "        a = int(input(\"1st Number: \"))\n",
    "        b = int(input(\"2st Number: \"))\n",
    "        c=a/b\n",
    "        print(\"div:\",c)\n",
    "        break\n",
    "    except:\n",
    "        print(traceback.format_exc()) "
   ]
  },
  {
   "cell_type": "code",
   "execution_count": null,
   "id": "a6adb770",
   "metadata": {},
   "outputs": [],
   "source": [
    "#raise Exception\n",
    "#at custom line"
   ]
  },
  {
   "cell_type": "code",
   "execution_count": 2,
   "id": "23bf51d5",
   "metadata": {},
   "outputs": [
    {
     "name": "stdout",
     "output_type": "stream",
     "text": [
      "1st Number : 10\n",
      "2nd Number : 0\n",
      "Please do not enter Zero\n",
      "1st Number : 10\n",
      "2nd Number : -7\n",
      " -ve number is not allowed\n",
      "1st Number : 6\n",
      "2nd Number : j\n",
      "Please enter number only\n",
      "1st Number : 6\n",
      "2nd Number : 9\n",
      "0.6666666666666666\n"
     ]
    }
   ],
   "source": [
    "while True:\n",
    "    try:\n",
    "        a = int(input(\"1st Number : \"))\n",
    "        b = int(input(\"2nd Number : \"))\n",
    "        if a<0 or b<0:\n",
    "            raise Exception (\" -ve number is not allowed\")\n",
    "        c=a/b\n",
    "        print(c)\n",
    "        break\n",
    "    except ValueError:\n",
    "            print(\"Please enter number only\")\n",
    "    except ZeroDivisionError:\n",
    "                print(\"Please do not enter Zero\")\n",
    "    except Exception as e:\n",
    "            print(e)\n",
    "            \n",
    "        "
   ]
  },
  {
   "cell_type": "code",
   "execution_count": null,
   "id": "650376c1",
   "metadata": {},
   "outputs": [],
   "source": [
    "#Custom Exception"
   ]
  },
  {
   "cell_type": "code",
   "execution_count": null,
   "id": "68e4b244",
   "metadata": {},
   "outputs": [
    {
     "name": "stdout",
     "output_type": "stream",
     "text": [
      "1st Number : 67\n",
      "2nd Number : -89\n",
      "name 'NegativeNumberException' is not defined\n"
     ]
    }
   ],
   "source": [
    "while True:\n",
    "    try:\n",
    "        a = int(input(\"1st Number : \"))\n",
    "        b = int(input(\"2nd Number : \"))\n",
    "        if a<0 or b<0:\n",
    "            raise NegativeNumberException (\" -ve number is not allowed\")\n",
    "        c=a/b\n",
    "        print(c)\n",
    "        break\n",
    "    except ValueError:\n",
    "            print(\"Please enter number only\")\n",
    "    except ZeroDivisionError:\n",
    "                print(\"Please do not enter Zero\")\n",
    "    except Exception as e:\n",
    "            print(e)\n",
    "               "
   ]
  },
  {
   "cell_type": "code",
   "execution_count": 1,
   "id": "e7670a57",
   "metadata": {},
   "outputs": [],
   "source": [
    "class NegativeNumberException (Exception):\n",
    "    pass"
   ]
  },
  {
   "cell_type": "code",
   "execution_count": null,
   "id": "60331fe7",
   "metadata": {},
   "outputs": [
    {
     "name": "stdout",
     "output_type": "stream",
     "text": [
      "1st Number : 5\n",
      "2nd Number : -9\n",
      " -ve number is not allowed\n"
     ]
    }
   ],
   "source": [
    "while True:\n",
    "    try:\n",
    "        a = int(input(\"1st Number : \"))\n",
    "        b = int(input(\"2nd Number : \"))\n",
    "        if a<0 or b<0:\n",
    "            raise NegativeNumberException (\" -ve number is not allowed\")\n",
    "        c=a/b\n",
    "        print(c)\n",
    "        break\n",
    "    except ValueError:\n",
    "            print(\"Please enter number only\")\n",
    "    except ZeroDivisionError:\n",
    "                print(\"Please do not enter Zero\")\n",
    "    except Exception as e:\n",
    "            print(e)\n",
    "               "
   ]
  },
  {
   "cell_type": "code",
   "execution_count": null,
   "id": "3b75d970",
   "metadata": {},
   "outputs": [],
   "source": [
    "### Final Block"
   ]
  },
  {
   "cell_type": "code",
   "execution_count": 1,
   "id": "6ad9d0c0",
   "metadata": {},
   "outputs": [
    {
     "name": "stdout",
     "output_type": "stream",
     "text": [
      "enter first number 9\n",
      "enter second number 9\n",
      "1.0\n",
      "Finally block always execute\n"
     ]
    }
   ],
   "source": [
    "try:\n",
    "    a =int(input('enter first number '))\n",
    "    b= int(input('enter second number '))\n",
    "    c=a/b\n",
    "    print(c)              \n",
    "except:\n",
    "    print(\"b should not be a zero\")\n",
    "finally:\n",
    "    print(\"Finally block always execute\")"
   ]
  },
  {
   "cell_type": "code",
   "execution_count": null,
   "id": "7b4800ef",
   "metadata": {},
   "outputs": [],
   "source": []
  }
 ],
 "metadata": {
  "kernelspec": {
   "display_name": "Python 3 (ipykernel)",
   "language": "python",
   "name": "python3"
  },
  "language_info": {
   "codemirror_mode": {
    "name": "ipython",
    "version": 3
   },
   "file_extension": ".py",
   "mimetype": "text/x-python",
   "name": "python",
   "nbconvert_exporter": "python",
   "pygments_lexer": "ipython3",
   "version": "3.9.7"
  }
 },
 "nbformat": 4,
 "nbformat_minor": 5
}
