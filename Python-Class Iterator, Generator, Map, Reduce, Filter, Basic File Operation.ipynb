{
 "cells": [
  {
   "cell_type": "code",
   "execution_count": 2,
   "id": "d6612ad6",
   "metadata": {},
   "outputs": [],
   "source": [
    "l = [1,2,3,4,5]"
   ]
  },
  {
   "cell_type": "code",
   "execution_count": null,
   "id": "c37860b4",
   "metadata": {},
   "outputs": [],
   "source": [
    "# Iterators power and control the iteration process, while iterables typically hold data that you want to iterate over one value at a time."
   ]
  },
  {
   "cell_type": "code",
   "execution_count": 3,
   "id": "2e8e052a",
   "metadata": {},
   "outputs": [
    {
     "name": "stdout",
     "output_type": "stream",
     "text": [
      "1\n",
      "2\n",
      "3\n",
      "4\n",
      "5\n"
     ]
    }
   ],
   "source": [
    "for i in l:\n",
    "    print(i)"
   ]
  },
  {
   "cell_type": "code",
   "execution_count": 4,
   "id": "94239d82",
   "metadata": {
    "scrolled": true
   },
   "outputs": [
    {
     "ename": "TypeError",
     "evalue": "'list' object is not an iterator",
     "output_type": "error",
     "traceback": [
      "\u001b[1;31m---------------------------------------------------------------------------\u001b[0m",
      "\u001b[1;31mTypeError\u001b[0m                                 Traceback (most recent call last)",
      "\u001b[1;32m~\\AppData\\Local\\Temp/ipykernel_10744/304454773.py\u001b[0m in \u001b[0;36m<module>\u001b[1;34m\u001b[0m\n\u001b[1;32m----> 1\u001b[1;33m \u001b[0mnext\u001b[0m\u001b[1;33m(\u001b[0m\u001b[0ml\u001b[0m\u001b[1;33m)\u001b[0m \u001b[1;31m#'list' object is not an iterator\u001b[0m\u001b[1;33m\u001b[0m\u001b[1;33m\u001b[0m\u001b[0m\n\u001b[0m",
      "\u001b[1;31mTypeError\u001b[0m: 'list' object is not an iterator"
     ]
    }
   ],
   "source": [
    "next(l) #'list' object is not an iterator\n"
   ]
  },
  {
   "cell_type": "code",
   "execution_count": 5,
   "id": "49ef57f9",
   "metadata": {},
   "outputs": [],
   "source": [
    "b = iter(l)"
   ]
  },
  {
   "cell_type": "code",
   "execution_count": 6,
   "id": "1c77a362",
   "metadata": {},
   "outputs": [
    {
     "data": {
      "text/plain": [
       "1"
      ]
     },
     "execution_count": 6,
     "metadata": {},
     "output_type": "execute_result"
    }
   ],
   "source": [
    "next(b)"
   ]
  },
  {
   "cell_type": "code",
   "execution_count": 7,
   "id": "0d63c699",
   "metadata": {},
   "outputs": [
    {
     "data": {
      "text/plain": [
       "2"
      ]
     },
     "execution_count": 7,
     "metadata": {},
     "output_type": "execute_result"
    }
   ],
   "source": [
    "next(b)"
   ]
  },
  {
   "cell_type": "code",
   "execution_count": 8,
   "id": "b7a2bf0b",
   "metadata": {},
   "outputs": [
    {
     "data": {
      "text/plain": [
       "3"
      ]
     },
     "execution_count": 8,
     "metadata": {},
     "output_type": "execute_result"
    }
   ],
   "source": [
    "next(b)"
   ]
  },
  {
   "cell_type": "code",
   "execution_count": 9,
   "id": "32f3c943",
   "metadata": {},
   "outputs": [
    {
     "data": {
      "text/plain": [
       "4"
      ]
     },
     "execution_count": 9,
     "metadata": {},
     "output_type": "execute_result"
    }
   ],
   "source": [
    "next(b)"
   ]
  },
  {
   "cell_type": "code",
   "execution_count": 10,
   "id": "fe74cd5e",
   "metadata": {},
   "outputs": [
    {
     "data": {
      "text/plain": [
       "5"
      ]
     },
     "execution_count": 10,
     "metadata": {},
     "output_type": "execute_result"
    }
   ],
   "source": [
    "next(b)"
   ]
  },
  {
   "cell_type": "code",
   "execution_count": 11,
   "id": "e4e9713e",
   "metadata": {},
   "outputs": [
    {
     "ename": "StopIteration",
     "evalue": "",
     "output_type": "error",
     "traceback": [
      "\u001b[1;31m---------------------------------------------------------------------------\u001b[0m",
      "\u001b[1;31mStopIteration\u001b[0m                             Traceback (most recent call last)",
      "\u001b[1;32m~\\AppData\\Local\\Temp/ipykernel_10744/973617480.py\u001b[0m in \u001b[0;36m<module>\u001b[1;34m\u001b[0m\n\u001b[1;32m----> 1\u001b[1;33m \u001b[0mnext\u001b[0m\u001b[1;33m(\u001b[0m\u001b[0mb\u001b[0m\u001b[1;33m)\u001b[0m\u001b[1;33m\u001b[0m\u001b[1;33m\u001b[0m\u001b[0m\n\u001b[0m",
      "\u001b[1;31mStopIteration\u001b[0m: "
     ]
    }
   ],
   "source": [
    "next(b)"
   ]
  },
  {
   "cell_type": "code",
   "execution_count": 12,
   "id": "d27ecb2e",
   "metadata": {},
   "outputs": [
    {
     "ename": "TypeError",
     "evalue": "'int' object is not an iterator",
     "output_type": "error",
     "traceback": [
      "\u001b[1;31m---------------------------------------------------------------------------\u001b[0m",
      "\u001b[1;31mTypeError\u001b[0m                                 Traceback (most recent call last)",
      "\u001b[1;32m~\\AppData\\Local\\Temp/ipykernel_10744/2317411141.py\u001b[0m in \u001b[0;36m<module>\u001b[1;34m\u001b[0m\n\u001b[1;32m----> 1\u001b[1;33m \u001b[0mnext\u001b[0m\u001b[1;33m(\u001b[0m\u001b[1;36m45\u001b[0m\u001b[1;33m)\u001b[0m\u001b[1;33m\u001b[0m\u001b[1;33m\u001b[0m\u001b[0m\n\u001b[0m",
      "\u001b[1;31mTypeError\u001b[0m: 'int' object is not an iterator"
     ]
    }
   ],
   "source": [
    "next(45)"
   ]
  },
  {
   "cell_type": "code",
   "execution_count": 13,
   "id": "3c33e5f7",
   "metadata": {},
   "outputs": [
    {
     "ename": "TypeError",
     "evalue": "'int' object is not iterable",
     "output_type": "error",
     "traceback": [
      "\u001b[1;31m---------------------------------------------------------------------------\u001b[0m",
      "\u001b[1;31mTypeError\u001b[0m                                 Traceback (most recent call last)",
      "\u001b[1;32m~\\AppData\\Local\\Temp/ipykernel_10744/3186544426.py\u001b[0m in \u001b[0;36m<module>\u001b[1;34m\u001b[0m\n\u001b[1;32m----> 1\u001b[1;33m \u001b[0miter\u001b[0m\u001b[1;33m(\u001b[0m\u001b[1;36m45\u001b[0m\u001b[1;33m)\u001b[0m\u001b[1;33m\u001b[0m\u001b[1;33m\u001b[0m\u001b[0m\n\u001b[0m",
      "\u001b[1;31mTypeError\u001b[0m: 'int' object is not iterable"
     ]
    }
   ],
   "source": [
    "iter(45)"
   ]
  },
  {
   "cell_type": "code",
   "execution_count": null,
   "id": "b395c8a8",
   "metadata": {},
   "outputs": [],
   "source": [
    " ###only iterable data can converted into iterator. For loop try to convert iterable into iterator internaly through iter"
   ]
  },
  {
   "cell_type": "code",
   "execution_count": 14,
   "id": "f6704a9e",
   "metadata": {},
   "outputs": [
    {
     "ename": "TypeError",
     "evalue": "'int' object is not iterable",
     "output_type": "error",
     "traceback": [
      "\u001b[1;31m---------------------------------------------------------------------------\u001b[0m",
      "\u001b[1;31mTypeError\u001b[0m                                 Traceback (most recent call last)",
      "\u001b[1;32m~\\AppData\\Local\\Temp/ipykernel_10744/648977131.py\u001b[0m in \u001b[0;36m<module>\u001b[1;34m\u001b[0m\n\u001b[1;32m----> 1\u001b[1;33m \u001b[1;32mfor\u001b[0m \u001b[0mi\u001b[0m \u001b[1;32min\u001b[0m \u001b[1;36m45677\u001b[0m\u001b[1;33m:\u001b[0m\u001b[1;33m\u001b[0m\u001b[1;33m\u001b[0m\u001b[0m\n\u001b[0m\u001b[0;32m      2\u001b[0m     \u001b[0mprint\u001b[0m\u001b[1;33m(\u001b[0m\u001b[0mi\u001b[0m\u001b[1;33m)\u001b[0m\u001b[1;33m\u001b[0m\u001b[1;33m\u001b[0m\u001b[0m\n",
      "\u001b[1;31mTypeError\u001b[0m: 'int' object is not iterable"
     ]
    }
   ],
   "source": [
    "for i in 45677:\n",
    "    print(i)"
   ]
  },
  {
   "cell_type": "code",
   "execution_count": 15,
   "id": "eb1ac178",
   "metadata": {},
   "outputs": [
    {
     "data": {
      "text/plain": [
       "[1, 2, 3, 4, 5]"
      ]
     },
     "execution_count": 15,
     "metadata": {},
     "output_type": "execute_result"
    }
   ],
   "source": [
    "l"
   ]
  },
  {
   "cell_type": "code",
   "execution_count": null,
   "id": "f3bd8096",
   "metadata": {},
   "outputs": [],
   "source": [
    "for i in l:\n",
    "    print(i)  ## iter()-->next()"
   ]
  },
  {
   "cell_type": "code",
   "execution_count": 19,
   "id": "880d8195",
   "metadata": {},
   "outputs": [
    {
     "ename": "TypeError",
     "evalue": "'str' object is not an iterator",
     "output_type": "error",
     "traceback": [
      "\u001b[1;31m---------------------------------------------------------------------------\u001b[0m",
      "\u001b[1;31mTypeError\u001b[0m                                 Traceback (most recent call last)",
      "\u001b[1;32m~\\AppData\\Local\\Temp/ipykernel_10744/3747537577.py\u001b[0m in \u001b[0;36m<module>\u001b[1;34m\u001b[0m\n\u001b[0;32m      1\u001b[0m \u001b[0ma\u001b[0m \u001b[1;33m=\u001b[0m \u001b[1;34m\"akki\"\u001b[0m\u001b[1;33m\u001b[0m\u001b[1;33m\u001b[0m\u001b[0m\n\u001b[1;32m----> 2\u001b[1;33m \u001b[0mnext\u001b[0m\u001b[1;33m(\u001b[0m\u001b[0ma\u001b[0m\u001b[1;33m)\u001b[0m\u001b[1;33m\u001b[0m\u001b[1;33m\u001b[0m\u001b[0m\n\u001b[0m",
      "\u001b[1;31mTypeError\u001b[0m: 'str' object is not an iterator"
     ]
    }
   ],
   "source": [
    "a = \"akki\"\n",
    "next(a)"
   ]
  },
  {
   "cell_type": "code",
   "execution_count": 20,
   "id": "45b3c375",
   "metadata": {},
   "outputs": [],
   "source": [
    "a = iter(a)"
   ]
  },
  {
   "cell_type": "code",
   "execution_count": 21,
   "id": "bcf541f5",
   "metadata": {},
   "outputs": [
    {
     "data": {
      "text/plain": [
       "'a'"
      ]
     },
     "execution_count": 21,
     "metadata": {},
     "output_type": "execute_result"
    }
   ],
   "source": [
    "next(a)"
   ]
  },
  {
   "cell_type": "code",
   "execution_count": 22,
   "id": "bb9399c5",
   "metadata": {},
   "outputs": [
    {
     "data": {
      "text/plain": [
       "'k'"
      ]
     },
     "execution_count": 22,
     "metadata": {},
     "output_type": "execute_result"
    }
   ],
   "source": [
    "next(a)"
   ]
  },
  {
   "cell_type": "code",
   "execution_count": 23,
   "id": "cb6353ce",
   "metadata": {},
   "outputs": [
    {
     "data": {
      "text/plain": [
       "'k'"
      ]
     },
     "execution_count": 23,
     "metadata": {},
     "output_type": "execute_result"
    }
   ],
   "source": [
    "next(a)"
   ]
  },
  {
   "cell_type": "code",
   "execution_count": 24,
   "id": "86af8022",
   "metadata": {},
   "outputs": [
    {
     "data": {
      "text/plain": [
       "'i'"
      ]
     },
     "execution_count": 24,
     "metadata": {},
     "output_type": "execute_result"
    }
   ],
   "source": [
    "next(a)"
   ]
  },
  {
   "cell_type": "code",
   "execution_count": 25,
   "id": "e13c130a",
   "metadata": {},
   "outputs": [
    {
     "ename": "StopIteration",
     "evalue": "",
     "output_type": "error",
     "traceback": [
      "\u001b[1;31m---------------------------------------------------------------------------\u001b[0m",
      "\u001b[1;31mStopIteration\u001b[0m                             Traceback (most recent call last)",
      "\u001b[1;32m~\\AppData\\Local\\Temp/ipykernel_10744/1242322984.py\u001b[0m in \u001b[0;36m<module>\u001b[1;34m\u001b[0m\n\u001b[1;32m----> 1\u001b[1;33m \u001b[0mnext\u001b[0m\u001b[1;33m(\u001b[0m\u001b[0ma\u001b[0m\u001b[1;33m)\u001b[0m\u001b[1;33m\u001b[0m\u001b[1;33m\u001b[0m\u001b[0m\n\u001b[0m",
      "\u001b[1;31mStopIteration\u001b[0m: "
     ]
    }
   ],
   "source": [
    "next(a)"
   ]
  },
  {
   "cell_type": "code",
   "execution_count": 26,
   "id": "63ca05e8",
   "metadata": {},
   "outputs": [
    {
     "name": "stdout",
     "output_type": "stream",
     "text": [
      "a\n",
      "k\n",
      "k\n",
      "i\n"
     ]
    }
   ],
   "source": [
    "a = \"akki\"\n",
    "for i in a:\n",
    "    print(i)"
   ]
  },
  {
   "cell_type": "code",
   "execution_count": 27,
   "id": "569afadf",
   "metadata": {},
   "outputs": [
    {
     "ename": "TypeError",
     "evalue": "'tuple' object is not an iterator",
     "output_type": "error",
     "traceback": [
      "\u001b[1;31m---------------------------------------------------------------------------\u001b[0m",
      "\u001b[1;31mTypeError\u001b[0m                                 Traceback (most recent call last)",
      "\u001b[1;32m~\\AppData\\Local\\Temp/ipykernel_10744/672883322.py\u001b[0m in \u001b[0;36m<module>\u001b[1;34m\u001b[0m\n\u001b[0;32m      1\u001b[0m \u001b[0mt\u001b[0m \u001b[1;33m=\u001b[0m\u001b[1;33m(\u001b[0m\u001b[1;36m3\u001b[0m\u001b[1;33m,\u001b[0m\u001b[1;36m4\u001b[0m\u001b[1;33m,\u001b[0m\u001b[1;36m5\u001b[0m\u001b[1;33m,\u001b[0m\u001b[1;36m7\u001b[0m\u001b[1;33m)\u001b[0m\u001b[1;33m\u001b[0m\u001b[1;33m\u001b[0m\u001b[0m\n\u001b[1;32m----> 2\u001b[1;33m \u001b[0mnext\u001b[0m\u001b[1;33m(\u001b[0m\u001b[0mt\u001b[0m\u001b[1;33m)\u001b[0m\u001b[1;33m\u001b[0m\u001b[1;33m\u001b[0m\u001b[0m\n\u001b[0m",
      "\u001b[1;31mTypeError\u001b[0m: 'tuple' object is not an iterator"
     ]
    }
   ],
   "source": [
    " t =(3,4,5,7)\n",
    "next(t)"
   ]
  },
  {
   "cell_type": "code",
   "execution_count": 28,
   "id": "f2193cea",
   "metadata": {},
   "outputs": [],
   "source": [
    "t = iter(t)"
   ]
  },
  {
   "cell_type": "code",
   "execution_count": 29,
   "id": "869544c9",
   "metadata": {},
   "outputs": [
    {
     "data": {
      "text/plain": [
       "3"
      ]
     },
     "execution_count": 29,
     "metadata": {},
     "output_type": "execute_result"
    }
   ],
   "source": [
    "next(t)"
   ]
  },
  {
   "cell_type": "code",
   "execution_count": 30,
   "id": "8cd9b34e",
   "metadata": {},
   "outputs": [
    {
     "data": {
      "text/plain": [
       "4"
      ]
     },
     "execution_count": 30,
     "metadata": {},
     "output_type": "execute_result"
    }
   ],
   "source": [
    "next(t)"
   ]
  },
  {
   "cell_type": "code",
   "execution_count": 31,
   "id": "47821695",
   "metadata": {},
   "outputs": [
    {
     "data": {
      "text/plain": [
       "5"
      ]
     },
     "execution_count": 31,
     "metadata": {},
     "output_type": "execute_result"
    }
   ],
   "source": [
    "next(t)"
   ]
  },
  {
   "cell_type": "code",
   "execution_count": 32,
   "id": "08371858",
   "metadata": {},
   "outputs": [
    {
     "data": {
      "text/plain": [
       "7"
      ]
     },
     "execution_count": 32,
     "metadata": {},
     "output_type": "execute_result"
    }
   ],
   "source": [
    "next(t)"
   ]
  },
  {
   "cell_type": "code",
   "execution_count": 33,
   "id": "196850f6",
   "metadata": {},
   "outputs": [
    {
     "ename": "StopIteration",
     "evalue": "",
     "output_type": "error",
     "traceback": [
      "\u001b[1;31m---------------------------------------------------------------------------\u001b[0m",
      "\u001b[1;31mStopIteration\u001b[0m                             Traceback (most recent call last)",
      "\u001b[1;32m~\\AppData\\Local\\Temp/ipykernel_10744/2139502855.py\u001b[0m in \u001b[0;36m<module>\u001b[1;34m\u001b[0m\n\u001b[1;32m----> 1\u001b[1;33m \u001b[0mnext\u001b[0m\u001b[1;33m(\u001b[0m\u001b[0mt\u001b[0m\u001b[1;33m)\u001b[0m\u001b[1;33m\u001b[0m\u001b[1;33m\u001b[0m\u001b[0m\n\u001b[0m",
      "\u001b[1;31mStopIteration\u001b[0m: "
     ]
    }
   ],
   "source": [
    "next(t)"
   ]
  },
  {
   "cell_type": "markdown",
   "id": "277964c6",
   "metadata": {},
   "source": [
    "# Generator"
   ]
  },
  {
   "cell_type": "code",
   "execution_count": 2,
   "id": "65e1c6d2",
   "metadata": {},
   "outputs": [],
   "source": [
    "# Generator functions allow you to declare a function that behaves like an iterator\n",
    "# Generators are useful when we want to produce a large sequence of values, but we don't want to store all of them in memory at once."
   ]
  },
  {
   "cell_type": "code",
   "execution_count": 1,
   "id": "c0e0ebe2",
   "metadata": {},
   "outputs": [
    {
     "data": {
      "text/plain": [
       "[1, 2, 3, 4, 5, 6, 7, 8, 9]"
      ]
     },
     "execution_count": 1,
     "metadata": {},
     "output_type": "execute_result"
    }
   ],
   "source": [
    "list(range(1,10))"
   ]
  },
  {
   "cell_type": "code",
   "execution_count": 43,
   "id": "e2d2b44a",
   "metadata": {},
   "outputs": [],
   "source": [
    "def square_fun(n):\n",
    "    x = [i*i for i in range(n)]\n",
    "    return x"
   ]
  },
  {
   "cell_type": "code",
   "execution_count": 44,
   "id": "16f2924d",
   "metadata": {},
   "outputs": [
    {
     "data": {
      "text/plain": [
       "[0, 1, 4, 9]"
      ]
     },
     "execution_count": 44,
     "metadata": {},
     "output_type": "execute_result"
    }
   ],
   "source": [
    "square_fun(4)"
   ]
  },
  {
   "cell_type": "code",
   "execution_count": 45,
   "id": "fdd74067",
   "metadata": {},
   "outputs": [],
   "source": [
    "def square_fun1(n):\n",
    "    x = [i*i for i in range(n)]\n",
    "    yield x                 #yield key word use to convert any function into generator function"
   ]
  },
  {
   "cell_type": "code",
   "execution_count": 46,
   "id": "627fe24f",
   "metadata": {},
   "outputs": [
    {
     "data": {
      "text/plain": [
       "<generator object square_fun1 at 0x0000025CC1899350>"
      ]
     },
     "execution_count": 46,
     "metadata": {},
     "output_type": "execute_result"
    }
   ],
   "source": [
    "square_fun1(4) #here we are able to genrerat a function like range"
   ]
  },
  {
   "cell_type": "code",
   "execution_count": 47,
   "id": "259aff98",
   "metadata": {},
   "outputs": [
    {
     "name": "stdout",
     "output_type": "stream",
     "text": [
      "[0, 1, 4, 9, 16]\n"
     ]
    }
   ],
   "source": [
    "for i in square_fun1(5):           #Generator function required to called through yiels and for loop\n",
    "    print(i)"
   ]
  },
  {
   "cell_type": "code",
   "execution_count": 48,
   "id": "6a966678",
   "metadata": {},
   "outputs": [
    {
     "data": {
      "text/plain": [
       "[0, 1, 4, 9]"
      ]
     },
     "execution_count": 48,
     "metadata": {},
     "output_type": "execute_result"
    }
   ],
   "source": [
    "next( square_fun1(4))"
   ]
  },
  {
   "cell_type": "code",
   "execution_count": 49,
   "id": "a3cd44d4",
   "metadata": {},
   "outputs": [
    {
     "data": {
      "text/plain": [
       "range(0, 3)"
      ]
     },
     "execution_count": 49,
     "metadata": {},
     "output_type": "execute_result"
    }
   ],
   "source": [
    "range(3)"
   ]
  },
  {
   "cell_type": "code",
   "execution_count": 50,
   "id": "e7d9730d",
   "metadata": {},
   "outputs": [
    {
     "ename": "TypeError",
     "evalue": "'range' object is not an iterator",
     "output_type": "error",
     "traceback": [
      "\u001b[1;31m---------------------------------------------------------------------------\u001b[0m",
      "\u001b[1;31mTypeError\u001b[0m                                 Traceback (most recent call last)",
      "\u001b[1;32m~\\AppData\\Local\\Temp/ipykernel_10744/2481492534.py\u001b[0m in \u001b[0;36m<module>\u001b[1;34m\u001b[0m\n\u001b[1;32m----> 1\u001b[1;33m \u001b[0mnext\u001b[0m\u001b[1;33m(\u001b[0m\u001b[0mrange\u001b[0m\u001b[1;33m(\u001b[0m\u001b[1;36m3\u001b[0m\u001b[1;33m)\u001b[0m\u001b[1;33m)\u001b[0m\u001b[1;33m\u001b[0m\u001b[1;33m\u001b[0m\u001b[0m\n\u001b[0m",
      "\u001b[1;31mTypeError\u001b[0m: 'range' object is not an iterator"
     ]
    }
   ],
   "source": [
    "next(range(3))"
   ]
  },
  {
   "cell_type": "code",
   "execution_count": 51,
   "id": "29f35ff6",
   "metadata": {},
   "outputs": [],
   "source": [
    "r = iter(range(3))"
   ]
  },
  {
   "cell_type": "code",
   "execution_count": 55,
   "id": "fbb66020",
   "metadata": {},
   "outputs": [
    {
     "data": {
      "text/plain": [
       "2"
      ]
     },
     "execution_count": 55,
     "metadata": {},
     "output_type": "execute_result"
    }
   ],
   "source": [
    "next(r)"
   ]
  },
  {
   "cell_type": "markdown",
   "id": "2758565e",
   "metadata": {},
   "source": [
    "Fibonacci series--> next no is summation of first two numbers, e.g 0,1,1,2,3,5,8"
   ]
  },
  {
   "cell_type": "code",
   "execution_count": 6,
   "id": "3665de20",
   "metadata": {},
   "outputs": [],
   "source": [
    "def genfib(n):\n",
    "    a=1\n",
    "    b=1\n",
    "    l=[]\n",
    "    for i in range(n):\n",
    "        l.append(a)\n",
    "        a,b =b, a+b\n",
    "    return l                      #generating data in one go"
   ]
  },
  {
   "cell_type": "code",
   "execution_count": 8,
   "id": "0a60beac",
   "metadata": {},
   "outputs": [
    {
     "data": {
      "text/plain": [
       "[1, 1, 2, 3, 5, 8, 13, 21, 34, 55, 89]"
      ]
     },
     "execution_count": 8,
     "metadata": {},
     "output_type": "execute_result"
    }
   ],
   "source": [
    "genfib(11)\n"
   ]
  },
  {
   "cell_type": "code",
   "execution_count": 9,
   "id": "517f1025",
   "metadata": {},
   "outputs": [],
   "source": [
    "def genfib1(n):\n",
    "    a=1\n",
    "    b=1\n",
    "    for i in range(n):\n",
    "        yield a\n",
    "        a,b =b, a+b"
   ]
  },
  {
   "cell_type": "code",
   "execution_count": 10,
   "id": "336c1b4e",
   "metadata": {},
   "outputs": [
    {
     "data": {
      "text/plain": [
       "<generator object genfib1 at 0x00000215A802CF20>"
      ]
     },
     "execution_count": 10,
     "metadata": {},
     "output_type": "execute_result"
    }
   ],
   "source": [
    "genfib1(11)"
   ]
  },
  {
   "cell_type": "code",
   "execution_count": 11,
   "id": "360326b1",
   "metadata": {},
   "outputs": [
    {
     "name": "stdout",
     "output_type": "stream",
     "text": [
      "1\n",
      "1\n",
      "2\n",
      "3\n",
      "5\n",
      "8\n",
      "13\n",
      "21\n",
      "34\n",
      "55\n",
      "89\n"
     ]
    }
   ],
   "source": [
    "for i in genfib1(11):\n",
    "    print(i)            #generating data one by one"
   ]
  },
  {
   "cell_type": "markdown",
   "id": "f30679b4",
   "metadata": {},
   "source": [
    "# File operation"
   ]
  },
  {
   "cell_type": "code",
   "execution_count": 14,
   "id": "e64e5aee",
   "metadata": {},
   "outputs": [],
   "source": [
    "f = open(\"Akki1.txt\",'w')  #mode: w-write r-read,w+ read+write r+ read "
   ]
  },
  {
   "cell_type": "code",
   "execution_count": 15,
   "id": "3b87fa41",
   "metadata": {},
   "outputs": [
    {
     "name": "stdout",
     "output_type": "stream",
     "text": [
      " Volume in drive C is Windows-SSD\n",
      " Volume Serial Number is 7AF5-228C\n",
      "\n",
      " Directory of C:\\Users\\Lenovo\n",
      "\n",
      "25-05-2023  17:59    <DIR>          .\n",
      "25-04-2023  11:18    <DIR>          ..\n",
      "08-05-2022  17:28    <DIR>          .anaconda\n",
      "11-05-2022  00:05    <DIR>          .conda\n",
      "08-05-2022  17:27                25 .condarc\n",
      "08-05-2022  17:27    <DIR>          .continuum\n",
      "29-09-2022  19:50    <DIR>          .cufflinks\n",
      "31-05-2022  19:21    <DIR>          .dbus-keyrings\n",
      "26-04-2023  17:31    <DIR>          .idea\n",
      "21-09-2020  07:41    <DIR>          .idlerc\n",
      "23-05-2023  22:07    <DIR>          .ipynb_checkpoints\n",
      "11-05-2022  20:21    <DIR>          .ipython\n",
      "14-05-2022  15:48    <DIR>          .jupyter\n",
      "13-08-2022  17:19    <DIR>          .matplotlib\n",
      "30-06-2022  21:29    <DIR>          .ms-ad\n",
      "10-05-2022  23:59                29 .python_history\n",
      "08-10-2022  13:26         1,089,109 1. EDA Used Car Prediction.ipynb\n",
      "25-01-2023  18:15             6,931 -1.14-windows.xml\n",
      "22-03-2021  22:23    <DIR>          3D Objects\n",
      "29-09-2022  19:53           985,351 AirBnB Data Analysis Report.ipynb\n",
      "29-09-2022  19:50         4,184,899 airbnb prices.csv\n",
      "25-05-2023  17:59                 0 Akki1.txt\n",
      "29-09-2022  19:52    <DIR>          anaconda3\n",
      "14-05-2023  15:29            29,730 Class Assignment 28.05.22.ipynb\n",
      "14-06-2022  01:04             7,488 Class Assignment function 05.06.2022.ipynb\n",
      "04-06-2022  15:40            14,688 Class Assignment-String Basics 15.05.22 .ipynb\n",
      "12-09-2022  23:45            20,491 Conditions and Loop 22-05-2022 Class Notes.ipynb\n",
      "16-02-2023  20:56    <DIR>          Contacts\n",
      "05-11-2022  19:01            23,437 Decision Tree by Sunny Savita.ipynb\n",
      "23-05-2023  17:19    <DIR>          Desktop\n",
      "16-02-2023  20:56    <DIR>          Documents\n",
      "23-05-2023  21:40    <DIR>          Downloads\n",
      "12-06-2022  23:46            22,778 Exceptional Handling  Class 12.06.2022.ipynb\n",
      "16-02-2023  20:56    <DIR>          Favorites\n",
      "01-06-2022  22:32            41,959 for loop practice  (1) (1).ipynb\n",
      "18-06-2022  18:00            17,489 Function part 2 18.06.22.ipynb\n",
      "17-06-2022  00:17        39,204,446 Functions Recordings.ipynb\n",
      "21-05-2023  12:50            22,741 Functions-05.06.2022.ipynb\n",
      "14-08-2022  17:30         1,786,684 Graphs-14th August .ipynb\n",
      "08-10-2022  11:54           328,642 Hypothesis_Testing.ipynb\n",
      "20-06-2022  23:00            55,800 Iterator, Generator, basic file operations, map, reduce, filter 18.06.22.ipynb\n",
      "16-02-2023  20:56    <DIR>          Links\n",
      "22-05-2022  18:07            67,967 List, Tuples, dictionary, sets-class 21.05.2022 Class notes.ipynb\n",
      "26-06-2022  18:09    <DIR>          logging\n",
      "19-06-2022  15:22               705 Login Model 19.06.22.ipynb\n",
      "03-06-2022  22:29            20,512 Loops For and While Class 28.05.22.ipynb\n",
      "05-06-2022  14:41         1,373,043 Loops While Class 29.05.22.ipynb\n",
      "06-05-2023  21:44            32,090 Loops-For  Patterns & While.ipynb\n",
      "15-10-2022  16:22             5,040 Machine Learning 1 @ 15.10.2022.22\n",
      "09-06-2021  01:03    <DIR>          Microsoft\n",
      "16-02-2023  20:56    <DIR>          Music\n",
      "14-08-2022  15:11           268,737 Numpy.ipynb\n",
      "14-01-2022  22:47    <DIR>          OneDrive\n",
      "13-08-2022  15:18               887 Pandas Basic.ipynb\n",
      "16-02-2023  20:56    <DIR>          Pictures\n",
      "20-08-2022  15:27    <DIR>          Postman\n",
      "18-06-2022  18:28               981 Practice Basic .ipynb\n",
      "11-05-2022  23:10             5,967 Print.ipynb\n",
      "14-05-2021  08:47             1,113 pspp.jnl\n",
      "21-08-2022  15:11    <DIR>          PycharmProjects\n",
      "01-05-2023  18:11            57,939 Python Data Type - List, Tuples, dictionary & Sets (1) (1).ipynb\n",
      "24-04-2023  23:05             6,014 Python Data Type - List, Tuples, dictionary & Sets.ipynb\n",
      "23-05-2023  22:01            24,768 Python- Exception Handling.ipynb\n",
      "07-05-2023  17:57            21,772 Python- For loop.ipynb\n",
      "22-05-2022  18:09            47,863 Python String basics-15.05.2022 Class Note.ipynb\n",
      "21-04-2023  14:20            10,794 Python -Variables Basics.ipynb\n",
      "25-05-2023  17:58            31,722 Python-Class Iterator, Generator, Map, Reduce, Filter, Basic File Operation.ipynb\n",
      "01-05-2023  22:55            20,943 Python-Conditions-if,else, elif .ipynb\n",
      "21-05-2023  21:39            23,168 Python-Functions.ipynb\n",
      "14-05-2023  21:58            29,014 Python-While Loop and Basics of Function.ipynb\n",
      "04-06-2022  18:09            22,477 Revision, Task discussion & Task3 solution 04.06.2022.ipynb\n",
      "16-02-2023  20:56    <DIR>          Saved Games\n",
      "14-08-2022  16:34    <DIR>          seaborn-data\n",
      "16-02-2023  20:56    <DIR>          Searches\n",
      "28-05-2022  01:20               828 String function.ipynb\n",
      "08-10-2022  12:57             3,456 t-Test Stats.ipynb\n",
      "22-04-2023  15:24            46,980 Types of Variables-String.ipynb\n",
      "28-05-2022  01:07             1,625 Untitled.ipynb\n",
      "11-05-2022  20:28             1,189 Untitled1.ipynb\n",
      "04-06-2022  15:00             4,686 Untitled10.ipynb\n",
      "14-06-2022  01:04             1,537 Untitled11.ipynb\n",
      "18-06-2022  15:09             2,524 Untitled12.ipynb\n",
      "26-06-2022  18:35             2,782 Untitled13.ipynb\n",
      "27-08-2022  18:35            13,721 Untitled14.ipynb\n",
      "18-09-2022  11:14             1,477 Untitled15.ipynb\n",
      "18-09-2022  11:15                72 Untitled16.ipynb\n",
      "18-09-2022  11:24               588 Untitled17.ipynb\n",
      "08-10-2022  13:49               588 Untitled18.ipynb\n",
      "15-10-2022  16:10               588 Untitled19.ipynb\n",
      "16-10-2022  15:01         2,002,045 Untitled2 (1).ipynb\n",
      "12-05-2022  22:32               588 Untitled2.ipynb\n",
      "16-10-2022  15:01             9,719 Untitled20.ipynb\n",
      "16-10-2022  17:09               743 Untitled21.ipynb\n",
      "20-12-2022  17:50               904 Untitled22.ipynb\n",
      "09-05-2023  15:38             3,182 Untitled23.ipynb\n",
      "12-05-2022  23:54            12,998 Untitled3.ipynb\n",
      "13-05-2022  00:18             2,561 Untitled4.ipynb\n",
      "14-05-2022  01:00             3,451 Untitled5.ipynb\n",
      "14-05-2022  15:31               993 Untitled6.ipynb\n",
      "15-05-2022  15:06               588 Untitled7.ipynb\n",
      "15-05-2022  15:11                72 Untitled8.ipynb\n",
      "29-05-2022  16:50             2,076 Untitled9.ipynb\n",
      "22-05-2022  18:11             9,214 Variable  Intro in Python.ipynb\n",
      "21-04-2023  13:26             9,349 Variable  Intro in Python-14.05.2022 Class Notes.ipynb\n",
      "16-02-2023  20:56    <DIR>          Videos\n",
      "04-06-2022  19:26         3,644,399 while loop and basic of function .ipynb\n",
      "              73 File(s)     55,701,756 bytes\n",
      "              33 Dir(s)  334,442,991,616 bytes free\n"
     ]
    }
   ],
   "source": [
    "ls"
   ]
  },
  {
   "cell_type": "code",
   "execution_count": 16,
   "id": "37bde94d",
   "metadata": {},
   "outputs": [
    {
     "data": {
      "text/plain": [
       "29"
      ]
     },
     "execution_count": 16,
     "metadata": {},
     "output_type": "execute_result"
    }
   ],
   "source": [
    "f.write(\"this is my 1st file operation\")"
   ]
  },
  {
   "cell_type": "code",
   "execution_count": 17,
   "id": "2d85eebe",
   "metadata": {},
   "outputs": [],
   "source": [
    "f.close()"
   ]
  },
  {
   "cell_type": "code",
   "execution_count": 18,
   "id": "3992490e",
   "metadata": {},
   "outputs": [
    {
     "name": "stdout",
     "output_type": "stream",
     "text": [
      " Volume in drive C is Windows-SSD\n",
      " Volume Serial Number is 7AF5-228C\n",
      "\n",
      " Directory of C:\\Users\\Lenovo\n",
      "\n",
      "25-05-2023  18:04    <DIR>          .\n",
      "25-04-2023  11:18    <DIR>          ..\n",
      "08-05-2022  17:28    <DIR>          .anaconda\n",
      "11-05-2022  00:05    <DIR>          .conda\n",
      "08-05-2022  17:27                25 .condarc\n",
      "08-05-2022  17:27    <DIR>          .continuum\n",
      "29-09-2022  19:50    <DIR>          .cufflinks\n",
      "31-05-2022  19:21    <DIR>          .dbus-keyrings\n",
      "26-04-2023  17:31    <DIR>          .idea\n",
      "21-09-2020  07:41    <DIR>          .idlerc\n",
      "23-05-2023  22:07    <DIR>          .ipynb_checkpoints\n",
      "11-05-2022  20:21    <DIR>          .ipython\n",
      "14-05-2022  15:48    <DIR>          .jupyter\n",
      "13-08-2022  17:19    <DIR>          .matplotlib\n",
      "30-06-2022  21:29    <DIR>          .ms-ad\n",
      "10-05-2022  23:59                29 .python_history\n",
      "08-10-2022  13:26         1,089,109 1. EDA Used Car Prediction.ipynb\n",
      "25-01-2023  18:15             6,931 -1.14-windows.xml\n",
      "22-03-2021  22:23    <DIR>          3D Objects\n",
      "29-09-2022  19:53           985,351 AirBnB Data Analysis Report.ipynb\n",
      "29-09-2022  19:50         4,184,899 airbnb prices.csv\n",
      "25-05-2023  18:05                29 Akki1.txt\n",
      "29-09-2022  19:52    <DIR>          anaconda3\n",
      "14-05-2023  15:29            29,730 Class Assignment 28.05.22.ipynb\n",
      "14-06-2022  01:04             7,488 Class Assignment function 05.06.2022.ipynb\n",
      "04-06-2022  15:40            14,688 Class Assignment-String Basics 15.05.22 .ipynb\n",
      "12-09-2022  23:45            20,491 Conditions and Loop 22-05-2022 Class Notes.ipynb\n",
      "16-02-2023  20:56    <DIR>          Contacts\n",
      "05-11-2022  19:01            23,437 Decision Tree by Sunny Savita.ipynb\n",
      "23-05-2023  17:19    <DIR>          Desktop\n",
      "16-02-2023  20:56    <DIR>          Documents\n",
      "23-05-2023  21:40    <DIR>          Downloads\n",
      "12-06-2022  23:46            22,778 Exceptional Handling  Class 12.06.2022.ipynb\n",
      "16-02-2023  20:56    <DIR>          Favorites\n",
      "01-06-2022  22:32            41,959 for loop practice  (1) (1).ipynb\n",
      "18-06-2022  18:00            17,489 Function part 2 18.06.22.ipynb\n",
      "17-06-2022  00:17        39,204,446 Functions Recordings.ipynb\n",
      "21-05-2023  12:50            22,741 Functions-05.06.2022.ipynb\n",
      "14-08-2022  17:30         1,786,684 Graphs-14th August .ipynb\n",
      "08-10-2022  11:54           328,642 Hypothesis_Testing.ipynb\n",
      "20-06-2022  23:00            55,800 Iterator, Generator, basic file operations, map, reduce, filter 18.06.22.ipynb\n",
      "16-02-2023  20:56    <DIR>          Links\n",
      "22-05-2022  18:07            67,967 List, Tuples, dictionary, sets-class 21.05.2022 Class notes.ipynb\n",
      "26-06-2022  18:09    <DIR>          logging\n",
      "19-06-2022  15:22               705 Login Model 19.06.22.ipynb\n",
      "03-06-2022  22:29            20,512 Loops For and While Class 28.05.22.ipynb\n",
      "05-06-2022  14:41         1,373,043 Loops While Class 29.05.22.ipynb\n",
      "06-05-2023  21:44            32,090 Loops-For  Patterns & While.ipynb\n",
      "15-10-2022  16:22             5,040 Machine Learning 1 @ 15.10.2022.22\n",
      "09-06-2021  01:03    <DIR>          Microsoft\n",
      "16-02-2023  20:56    <DIR>          Music\n",
      "14-08-2022  15:11           268,737 Numpy.ipynb\n",
      "14-01-2022  22:47    <DIR>          OneDrive\n",
      "13-08-2022  15:18               887 Pandas Basic.ipynb\n",
      "16-02-2023  20:56    <DIR>          Pictures\n",
      "20-08-2022  15:27    <DIR>          Postman\n",
      "18-06-2022  18:28               981 Practice Basic .ipynb\n",
      "11-05-2022  23:10             5,967 Print.ipynb\n",
      "14-05-2021  08:47             1,113 pspp.jnl\n",
      "21-08-2022  15:11    <DIR>          PycharmProjects\n",
      "01-05-2023  18:11            57,939 Python Data Type - List, Tuples, dictionary & Sets (1) (1).ipynb\n",
      "24-04-2023  23:05             6,014 Python Data Type - List, Tuples, dictionary & Sets.ipynb\n",
      "23-05-2023  22:01            24,768 Python- Exception Handling.ipynb\n",
      "07-05-2023  17:57            21,772 Python- For loop.ipynb\n",
      "22-05-2022  18:09            47,863 Python String basics-15.05.2022 Class Note.ipynb\n",
      "21-04-2023  14:20            10,794 Python -Variables Basics.ipynb\n",
      "25-05-2023  18:04            30,990 Python-Class Iterator, Generator, Map, Reduce, Filter, Basic File Operation.ipynb\n",
      "01-05-2023  22:55            20,943 Python-Conditions-if,else, elif .ipynb\n",
      "21-05-2023  21:39            23,168 Python-Functions.ipynb\n",
      "14-05-2023  21:58            29,014 Python-While Loop and Basics of Function.ipynb\n",
      "04-06-2022  18:09            22,477 Revision, Task discussion & Task3 solution 04.06.2022.ipynb\n",
      "16-02-2023  20:56    <DIR>          Saved Games\n",
      "14-08-2022  16:34    <DIR>          seaborn-data\n",
      "16-02-2023  20:56    <DIR>          Searches\n",
      "28-05-2022  01:20               828 String function.ipynb\n",
      "08-10-2022  12:57             3,456 t-Test Stats.ipynb\n",
      "22-04-2023  15:24            46,980 Types of Variables-String.ipynb\n",
      "28-05-2022  01:07             1,625 Untitled.ipynb\n",
      "11-05-2022  20:28             1,189 Untitled1.ipynb\n",
      "04-06-2022  15:00             4,686 Untitled10.ipynb\n",
      "14-06-2022  01:04             1,537 Untitled11.ipynb\n",
      "18-06-2022  15:09             2,524 Untitled12.ipynb\n",
      "26-06-2022  18:35             2,782 Untitled13.ipynb\n",
      "27-08-2022  18:35            13,721 Untitled14.ipynb\n",
      "18-09-2022  11:14             1,477 Untitled15.ipynb\n",
      "18-09-2022  11:15                72 Untitled16.ipynb\n",
      "18-09-2022  11:24               588 Untitled17.ipynb\n",
      "08-10-2022  13:49               588 Untitled18.ipynb\n",
      "15-10-2022  16:10               588 Untitled19.ipynb\n",
      "16-10-2022  15:01         2,002,045 Untitled2 (1).ipynb\n",
      "12-05-2022  22:32               588 Untitled2.ipynb\n",
      "16-10-2022  15:01             9,719 Untitled20.ipynb\n",
      "16-10-2022  17:09               743 Untitled21.ipynb\n",
      "20-12-2022  17:50               904 Untitled22.ipynb\n",
      "09-05-2023  15:38             3,182 Untitled23.ipynb\n",
      "12-05-2022  23:54            12,998 Untitled3.ipynb\n",
      "13-05-2022  00:18             2,561 Untitled4.ipynb\n",
      "14-05-2022  01:00             3,451 Untitled5.ipynb\n",
      "14-05-2022  15:31               993 Untitled6.ipynb\n",
      "15-05-2022  15:06               588 Untitled7.ipynb\n",
      "15-05-2022  15:11                72 Untitled8.ipynb\n",
      "29-05-2022  16:50             2,076 Untitled9.ipynb\n",
      "22-05-2022  18:11             9,214 Variable  Intro in Python.ipynb\n",
      "21-04-2023  13:26             9,349 Variable  Intro in Python-14.05.2022 Class Notes.ipynb\n",
      "16-02-2023  20:56    <DIR>          Videos\n",
      "04-06-2022  19:26         3,644,399 while loop and basic of function .ipynb\n",
      "              73 File(s)     55,701,053 bytes\n",
      "              33 Dir(s)  334,443,692,032 bytes free\n"
     ]
    }
   ],
   "source": [
    "ls"
   ]
  },
  {
   "cell_type": "code",
   "execution_count": 19,
   "id": "eb295f46",
   "metadata": {},
   "outputs": [],
   "source": [
    "f1 = open(\"test.txt\",\"w\")"
   ]
  },
  {
   "cell_type": "code",
   "execution_count": 20,
   "id": "f94feaf9",
   "metadata": {},
   "outputs": [
    {
     "data": {
      "text/plain": [
       "24"
      ]
     },
     "execution_count": 20,
     "metadata": {},
     "output_type": "execute_result"
    }
   ],
   "source": [
    "f1.write(\"this is a file operation\")"
   ]
  },
  {
   "cell_type": "code",
   "execution_count": 21,
   "id": "e7ecc4c0",
   "metadata": {},
   "outputs": [],
   "source": [
    "f1.close()"
   ]
  },
  {
   "cell_type": "code",
   "execution_count": 26,
   "id": "f8303965",
   "metadata": {},
   "outputs": [],
   "source": [
    "l = [1,2,4,5,6,7,8,9,4]\n"
   ]
  },
  {
   "cell_type": "code",
   "execution_count": 27,
   "id": "5653a248",
   "metadata": {},
   "outputs": [],
   "source": [
    "f2=open(\"test2.txt\", \"w\")"
   ]
  },
  {
   "cell_type": "code",
   "execution_count": 28,
   "id": "a56600a4",
   "metadata": {},
   "outputs": [
    {
     "data": {
      "text/plain": [
       "27"
      ]
     },
     "execution_count": 28,
     "metadata": {},
     "output_type": "execute_result"
    }
   ],
   "source": [
    "f2.write(str(l))"
   ]
  },
  {
   "cell_type": "code",
   "execution_count": 29,
   "id": "8dd1832a",
   "metadata": {},
   "outputs": [],
   "source": [
    "f2.close()"
   ]
  },
  {
   "cell_type": "code",
   "execution_count": 37,
   "id": "23b09bd8",
   "metadata": {},
   "outputs": [],
   "source": [
    "f3 = open(\"test.akki\",'w')"
   ]
  },
  {
   "cell_type": "code",
   "execution_count": 38,
   "id": "72d66f8f",
   "metadata": {},
   "outputs": [
    {
     "data": {
      "text/plain": [
       "17"
      ]
     },
     "execution_count": 38,
     "metadata": {},
     "output_type": "execute_result"
    }
   ],
   "source": [
    "f3.write(\"lets learn Python\")"
   ]
  },
  {
   "cell_type": "code",
   "execution_count": 39,
   "id": "0ed24d3d",
   "metadata": {},
   "outputs": [],
   "source": [
    "f3.close()"
   ]
  },
  {
   "cell_type": "code",
   "execution_count": 42,
   "id": "7e44534b",
   "metadata": {},
   "outputs": [
    {
     "name": "stdout",
     "output_type": "stream",
     "text": [
      "Overwriting test5.txt\n"
     ]
    }
   ],
   "source": [
    "%%writefile test5.txt\n",
    "this is my python program to write into different file\n",
    "this is my python program to write into different file\n",
    "this is my python program to write into different file\n",
    "this is my python program to write into different file"
   ]
  },
  {
   "cell_type": "code",
   "execution_count": 2,
   "id": "738ac054",
   "metadata": {},
   "outputs": [],
   "source": [
    "f = open('test5.txt')"
   ]
  },
  {
   "cell_type": "code",
   "execution_count": 3,
   "id": "54134f7a",
   "metadata": {},
   "outputs": [
    {
     "data": {
      "text/plain": [
       "'this is my python program to write into different file\\nthis is my python program to write into different file\\nthis is my python program to write into different file\\nthis is my python program to write into different file\\n'"
      ]
     },
     "execution_count": 3,
     "metadata": {},
     "output_type": "execute_result"
    }
   ],
   "source": [
    "f.read()"
   ]
  },
  {
   "cell_type": "code",
   "execution_count": 4,
   "id": "0035d6fc",
   "metadata": {},
   "outputs": [
    {
     "data": {
      "text/plain": [
       "''"
      ]
     },
     "execution_count": 4,
     "metadata": {},
     "output_type": "execute_result"
    }
   ],
   "source": [
    "f.read() # for same file pointer will reach at end (at last location) hence blank"
   ]
  },
  {
   "cell_type": "code",
   "execution_count": 6,
   "id": "7a32e8ad",
   "metadata": {},
   "outputs": [
    {
     "data": {
      "text/plain": [
       "0"
      ]
     },
     "execution_count": 6,
     "metadata": {},
     "output_type": "execute_result"
    }
   ],
   "source": [
    "f.seek(0) #seek set pointer at certain index"
   ]
  },
  {
   "cell_type": "code",
   "execution_count": 7,
   "id": "436236e3",
   "metadata": {},
   "outputs": [
    {
     "data": {
      "text/plain": [
       "'this is my python program to write into different file\\nthis is my python program to write into different file\\nthis is my python program to write into different file\\nthis is my python program to write into different file\\n'"
      ]
     },
     "execution_count": 7,
     "metadata": {},
     "output_type": "execute_result"
    }
   ],
   "source": [
    "f.read()"
   ]
  },
  {
   "cell_type": "code",
   "execution_count": 8,
   "id": "41aa41ef",
   "metadata": {},
   "outputs": [
    {
     "data": {
      "text/plain": [
       "15"
      ]
     },
     "execution_count": 8,
     "metadata": {},
     "output_type": "execute_result"
    }
   ],
   "source": [
    "f.seek(15)"
   ]
  },
  {
   "cell_type": "code",
   "execution_count": 9,
   "id": "78037bc4",
   "metadata": {},
   "outputs": [
    {
     "data": {
      "text/plain": [
       "'on program to write into different file\\nthis is my python program to write into different file\\nthis is my python program to write into different file\\nthis is my python program to write into different file\\n'"
      ]
     },
     "execution_count": 9,
     "metadata": {},
     "output_type": "execute_result"
    }
   ],
   "source": [
    "f.read()"
   ]
  },
  {
   "cell_type": "code",
   "execution_count": 12,
   "id": "d6439d6e",
   "metadata": {},
   "outputs": [],
   "source": [
    "f1 = open ('test5.txt')"
   ]
  },
  {
   "cell_type": "code",
   "execution_count": 13,
   "id": "8bce8bce",
   "metadata": {},
   "outputs": [
    {
     "data": {
      "text/plain": [
       "0"
      ]
     },
     "execution_count": 13,
     "metadata": {},
     "output_type": "execute_result"
    }
   ],
   "source": [
    "f1.tell()      # tell- pointer loction is on which index"
   ]
  },
  {
   "cell_type": "code",
   "execution_count": 14,
   "id": "b4db6bad",
   "metadata": {},
   "outputs": [
    {
     "data": {
      "text/plain": [
       "'this is my python program to write into different file\\nthis is my python program to write into different file\\nthis is my python program to write into different file\\nthis is my python program to write into different file\\n'"
      ]
     },
     "execution_count": 14,
     "metadata": {},
     "output_type": "execute_result"
    }
   ],
   "source": [
    "f1.read()"
   ]
  },
  {
   "cell_type": "code",
   "execution_count": 15,
   "id": "bb4c463d",
   "metadata": {},
   "outputs": [
    {
     "data": {
      "text/plain": [
       "224"
      ]
     },
     "execution_count": 15,
     "metadata": {},
     "output_type": "execute_result"
    }
   ],
   "source": [
    " f1.tell()"
   ]
  },
  {
   "cell_type": "code",
   "execution_count": 17,
   "id": "aeaaf64e",
   "metadata": {},
   "outputs": [
    {
     "data": {
      "text/plain": [
       "5"
      ]
     },
     "execution_count": 17,
     "metadata": {},
     "output_type": "execute_result"
    }
   ],
   "source": [
    "f1.seek(5)"
   ]
  },
  {
   "cell_type": "code",
   "execution_count": 18,
   "id": "b6b04d7a",
   "metadata": {},
   "outputs": [
    {
     "data": {
      "text/plain": [
       "5"
      ]
     },
     "execution_count": 18,
     "metadata": {},
     "output_type": "execute_result"
    }
   ],
   "source": [
    "f1.tell() #pointer is on 5th location"
   ]
  },
  {
   "cell_type": "code",
   "execution_count": 19,
   "id": "929833f6",
   "metadata": {},
   "outputs": [
    {
     "data": {
      "text/plain": [
       "'is my python pr'"
      ]
     },
     "execution_count": 19,
     "metadata": {},
     "output_type": "execute_result"
    }
   ],
   "source": [
    "f1.read(15)  #it will read from 5th loctoin to 15 th loction point"
   ]
  },
  {
   "cell_type": "code",
   "execution_count": 20,
   "id": "eb3d1725",
   "metadata": {},
   "outputs": [],
   "source": [
    "f2 = open('test5.txt')"
   ]
  },
  {
   "cell_type": "code",
   "execution_count": 21,
   "id": "453f5f61",
   "metadata": {},
   "outputs": [
    {
     "data": {
      "text/plain": [
       "'this is my python program to write into different file\\nthis is my python program to write into different file\\nthis is my python program to write into different file\\nthis is my python program to write into different file\\n'"
      ]
     },
     "execution_count": 21,
     "metadata": {},
     "output_type": "execute_result"
    }
   ],
   "source": [
    "f2.read()"
   ]
  },
  {
   "cell_type": "code",
   "execution_count": 22,
   "id": "0f51e107",
   "metadata": {},
   "outputs": [
    {
     "data": {
      "text/plain": [
       "0"
      ]
     },
     "execution_count": 22,
     "metadata": {},
     "output_type": "execute_result"
    }
   ],
   "source": [
    "f2.seek(0)"
   ]
  },
  {
   "cell_type": "code",
   "execution_count": 23,
   "id": "57bab071",
   "metadata": {},
   "outputs": [
    {
     "data": {
      "text/plain": [
       "'this is my python program to write into different file\\n'"
      ]
     },
     "execution_count": 23,
     "metadata": {},
     "output_type": "execute_result"
    }
   ],
   "source": [
    "f2.readline()"
   ]
  },
  {
   "cell_type": "code",
   "execution_count": 24,
   "id": "4edcc650",
   "metadata": {},
   "outputs": [
    {
     "data": {
      "text/plain": [
       "['this is my python program to write into different file\\n',\n",
       " 'this is my python program to write into different file\\n',\n",
       " 'this is my python program to write into different file\\n']"
      ]
     },
     "execution_count": 24,
     "metadata": {},
     "output_type": "execute_result"
    }
   ],
   "source": [
    "f2.readlines()"
   ]
  },
  {
   "cell_type": "code",
   "execution_count": 25,
   "id": "d9c0fd73",
   "metadata": {
    "scrolled": true
   },
   "outputs": [
    {
     "data": {
      "text/plain": [
       "<_io.TextIOWrapper name='test5.txt' mode='r' encoding='cp1252'>"
      ]
     },
     "execution_count": 25,
     "metadata": {},
     "output_type": "execute_result"
    }
   ],
   "source": [
    "f2"
   ]
  },
  {
   "cell_type": "code",
   "execution_count": 26,
   "id": "01cfc198",
   "metadata": {},
   "outputs": [
    {
     "data": {
      "text/plain": [
       "6"
      ]
     },
     "execution_count": 26,
     "metadata": {},
     "output_type": "execute_result"
    }
   ],
   "source": [
    "f2.fileno()"
   ]
  },
  {
   "cell_type": "code",
   "execution_count": 46,
   "id": "69fa31f6",
   "metadata": {},
   "outputs": [],
   "source": [
    "f = open(\"test.txt\", 'w')"
   ]
  },
  {
   "cell_type": "code",
   "execution_count": 47,
   "id": "a15d8f13",
   "metadata": {},
   "outputs": [
    {
     "data": {
      "text/plain": [
       "58"
      ]
     },
     "execution_count": 47,
     "metadata": {},
     "output_type": "execute_result"
    }
   ],
   "source": [
    "f.write(\"\"\"this is my python program to write into different file \\n' \"\"\")"
   ]
  },
  {
   "cell_type": "code",
   "execution_count": 48,
   "id": "45a897f7",
   "metadata": {},
   "outputs": [],
   "source": [
    "f.write(\"Python is fun\")\n",
    "f.close()"
   ]
  },
  {
   "cell_type": "code",
   "execution_count": 49,
   "id": "fd4f06a6",
   "metadata": {},
   "outputs": [
    {
     "ename": "ValueError",
     "evalue": "I/O operation on closed file.",
     "output_type": "error",
     "traceback": [
      "\u001b[1;31m---------------------------------------------------------------------------\u001b[0m",
      "\u001b[1;31mValueError\u001b[0m                                Traceback (most recent call last)",
      "\u001b[1;32m~\\AppData\\Local\\Temp/ipykernel_2776/574643412.py\u001b[0m in \u001b[0;36m<module>\u001b[1;34m\u001b[0m\n\u001b[1;32m----> 1\u001b[1;33m \u001b[0mf\u001b[0m\u001b[1;33m.\u001b[0m\u001b[0mwrite\u001b[0m\u001b[1;33m(\u001b[0m\u001b[1;34m\"lets save another line in file\"\u001b[0m\u001b[1;33m)\u001b[0m\u001b[1;33m\u001b[0m\u001b[1;33m\u001b[0m\u001b[0m\n\u001b[0m",
      "\u001b[1;31mValueError\u001b[0m: I/O operation on closed file."
     ]
    }
   ],
   "source": [
    "f.write(\"lets save another line in file\")"
   ]
  },
  {
   "cell_type": "code",
   "execution_count": 52,
   "id": "65c481e2",
   "metadata": {},
   "outputs": [],
   "source": [
    "f  = open('test.txt', 'a')  #append mode\n",
    "f.write(\"this is new data set which is appended\")\n",
    "f.close()"
   ]
  },
  {
   "cell_type": "code",
   "execution_count": null,
   "id": "c313d106",
   "metadata": {},
   "outputs": [],
   "source": [
    "#r+ read & write mode-if file is not available then it will give error\n",
    "#w+  read & write mode-if file is not available then it will create a new file"
   ]
  },
  {
   "cell_type": "code",
   "execution_count": 55,
   "id": "de38165c",
   "metadata": {},
   "outputs": [
    {
     "data": {
      "text/plain": [
       "'test.txt'"
      ]
     },
     "execution_count": 55,
     "metadata": {},
     "output_type": "execute_result"
    }
   ],
   "source": [
    "  f.name"
   ]
  },
  {
   "cell_type": "code",
   "execution_count": 56,
   "id": "ed46dbd2",
   "metadata": {},
   "outputs": [
    {
     "data": {
      "text/plain": [
       "True"
      ]
     },
     "execution_count": 56,
     "metadata": {},
     "output_type": "execute_result"
    }
   ],
   "source": [
    "f.closed"
   ]
  },
  {
   "cell_type": "code",
   "execution_count": 57,
   "id": "02dee236",
   "metadata": {},
   "outputs": [
    {
     "data": {
      "text/plain": [
       "'a'"
      ]
     },
     "execution_count": 57,
     "metadata": {},
     "output_type": "execute_result"
    }
   ],
   "source": [
    "f.mode"
   ]
  },
  {
   "cell_type": "code",
   "execution_count": 59,
   "id": "c3bbe653",
   "metadata": {},
   "outputs": [],
   "source": [
    "# if we want to save file in ant other drive.\n",
    "f3 = open(\"test3.txt\",'w')"
   ]
  },
  {
   "cell_type": "code",
   "execution_count": null,
   "id": "c536b1ce",
   "metadata": {},
   "outputs": [],
   "source": []
  },
  {
   "cell_type": "markdown",
   "id": "6a31bebb",
   "metadata": {},
   "source": [
    "# Map , Reduce , Filter"
   ]
  },
  {
   "cell_type": "code",
   "execution_count": 60,
   "id": "a5775cd2",
   "metadata": {},
   "outputs": [],
   "source": [
    " l = [2,3,4,5,6]  #finf list of square of every element"
   ]
  },
  {
   "cell_type": "code",
   "execution_count": 61,
   "id": "abe104e7",
   "metadata": {},
   "outputs": [
    {
     "name": "stdout",
     "output_type": "stream",
     "text": [
      "[4, 9, 16, 25, 36]\n"
     ]
    }
   ],
   "source": [
    "l1 =[]\n",
    "for i in l:\n",
    "    l1.append(i**2)\n",
    "print(l1)"
   ]
  },
  {
   "cell_type": "code",
   "execution_count": 62,
   "id": "9fbc8c00",
   "metadata": {},
   "outputs": [],
   "source": [
    "def sq(n):\n",
    "    return n**2"
   ]
  },
  {
   "cell_type": "code",
   "execution_count": 64,
   "id": "aa30e954",
   "metadata": {},
   "outputs": [
    {
     "data": {
      "text/plain": [
       "<map at 0x1d0ed60e3d0>"
      ]
     },
     "execution_count": 64,
     "metadata": {},
     "output_type": "execute_result"
    }
   ],
   "source": [
    "map(sq,l)"
   ]
  },
  {
   "cell_type": "code",
   "execution_count": 63,
   "id": "78485dcb",
   "metadata": {},
   "outputs": [
    {
     "data": {
      "text/plain": [
       "[4, 9, 16, 25, 36]"
      ]
     },
     "execution_count": 63,
     "metadata": {},
     "output_type": "execute_result"
    }
   ],
   "source": [
    "list(map(sq,l))"
   ]
  },
  {
   "cell_type": "code",
   "execution_count": 65,
   "id": "0587a021",
   "metadata": {},
   "outputs": [
    {
     "data": {
      "text/plain": [
       "<map at 0x1d0ed60e160>"
      ]
     },
     "execution_count": 65,
     "metadata": {},
     "output_type": "execute_result"
    }
   ],
   "source": [
    "map (lambda x : x**2, l)"
   ]
  },
  {
   "cell_type": "code",
   "execution_count": 66,
   "id": "0a0853a3",
   "metadata": {},
   "outputs": [
    {
     "data": {
      "text/plain": [
       "[4, 9, 16, 25, 36]"
      ]
     },
     "execution_count": 66,
     "metadata": {},
     "output_type": "execute_result"
    }
   ],
   "source": [
    "list(map (lambda x : x**2, l))"
   ]
  },
  {
   "cell_type": "code",
   "execution_count": 67,
   "id": "dedb2ba9",
   "metadata": {},
   "outputs": [
    {
     "data": {
      "text/plain": [
       "[2, 3, 4, 5, 6]"
      ]
     },
     "execution_count": 67,
     "metadata": {},
     "output_type": "execute_result"
    }
   ],
   "source": [
    "l           #convert list in str"
   ]
  },
  {
   "cell_type": "code",
   "execution_count": 69,
   "id": "78bf9f10",
   "metadata": {},
   "outputs": [
    {
     "data": {
      "text/plain": [
       "['2', '3', '4', '5', '6']"
      ]
     },
     "execution_count": 69,
     "metadata": {},
     "output_type": "execute_result"
    }
   ],
   "source": [
    "list (map(lambda x : str(x), l))"
   ]
  },
  {
   "cell_type": "code",
   "execution_count": 70,
   "id": "46b5b484",
   "metadata": {},
   "outputs": [],
   "source": [
    "def str_l(n):\n",
    "    return str(n)"
   ]
  },
  {
   "cell_type": "code",
   "execution_count": 71,
   "id": "c971c526",
   "metadata": {},
   "outputs": [
    {
     "data": {
      "text/plain": [
       "['2', '3', '4', '5', '6']"
      ]
     },
     "execution_count": 71,
     "metadata": {},
     "output_type": "execute_result"
    }
   ],
   "source": [
    "list(map(str_l,l))"
   ]
  },
  {
   "cell_type": "code",
   "execution_count": 72,
   "id": "d13fe8e5",
   "metadata": {},
   "outputs": [
    {
     "data": {
      "text/plain": [
       "['2', '3', '4', '5', '6']"
      ]
     },
     "execution_count": 72,
     "metadata": {},
     "output_type": "execute_result"
    }
   ],
   "source": [
    "list(map(str,l))"
   ]
  },
  {
   "cell_type": "code",
   "execution_count": null,
   "id": "4945de17",
   "metadata": {},
   "outputs": [],
   "source": [
    "#Reduce Function"
   ]
  },
  {
   "cell_type": "code",
   "execution_count": 73,
   "id": "6fe565f6",
   "metadata": {},
   "outputs": [],
   "source": [
    "from functools import reduce"
   ]
  },
  {
   "cell_type": "code",
   "execution_count": 75,
   "id": "8c95b9f7",
   "metadata": {},
   "outputs": [],
   "source": [
    "l = [3,4,5,6,7,8,9]  #summation of list"
   ]
  },
  {
   "cell_type": "code",
   "execution_count": 76,
   "id": "494645cb",
   "metadata": {},
   "outputs": [
    {
     "data": {
      "text/plain": [
       "42"
      ]
     },
     "execution_count": 76,
     "metadata": {},
     "output_type": "execute_result"
    }
   ],
   "source": [
    "sum(l)"
   ]
  },
  {
   "cell_type": "code",
   "execution_count": 77,
   "id": "2c64100b",
   "metadata": {},
   "outputs": [
    {
     "data": {
      "text/plain": [
       "42"
      ]
     },
     "execution_count": 77,
     "metadata": {},
     "output_type": "execute_result"
    }
   ],
   "source": [
    "reduce(lambda a, b : a+b, l)"
   ]
  },
  {
   "cell_type": "code",
   "execution_count": 78,
   "id": "29e0cc6d",
   "metadata": {},
   "outputs": [
    {
     "data": {
      "text/plain": [
       "181440"
      ]
     },
     "execution_count": 78,
     "metadata": {},
     "output_type": "execute_result"
    }
   ],
   "source": [
    " #multiplication of list\n",
    "reduce(lambda a, b : a*b, l)"
   ]
  },
  {
   "cell_type": "code",
   "execution_count": 79,
   "id": "61e8011d",
   "metadata": {},
   "outputs": [
    {
     "data": {
      "text/plain": [
       "4.96031746031746e-05"
      ]
     },
     "execution_count": 79,
     "metadata": {},
     "output_type": "execute_result"
    }
   ],
   "source": [
    "reduce(lambda a, b : a/b, l)"
   ]
  },
  {
   "cell_type": "code",
   "execution_count": 80,
   "id": "9ccf5622",
   "metadata": {},
   "outputs": [
    {
     "ename": "TypeError",
     "evalue": "<lambda>() missing 1 required positional argument: 'c'",
     "output_type": "error",
     "traceback": [
      "\u001b[1;31m---------------------------------------------------------------------------\u001b[0m",
      "\u001b[1;31mTypeError\u001b[0m                                 Traceback (most recent call last)",
      "\u001b[1;32m~\\AppData\\Local\\Temp/ipykernel_2776/732719399.py\u001b[0m in \u001b[0;36m<module>\u001b[1;34m\u001b[0m\n\u001b[1;32m----> 1\u001b[1;33m \u001b[0mreduce\u001b[0m\u001b[1;33m(\u001b[0m\u001b[1;32mlambda\u001b[0m \u001b[0ma\u001b[0m\u001b[1;33m,\u001b[0m \u001b[0mb\u001b[0m\u001b[1;33m,\u001b[0m \u001b[0mc\u001b[0m\u001b[1;33m:\u001b[0m \u001b[0ma\u001b[0m\u001b[1;33m+\u001b[0m\u001b[0mb\u001b[0m\u001b[1;33m+\u001b[0m\u001b[0mc\u001b[0m\u001b[1;33m,\u001b[0m \u001b[0ml\u001b[0m\u001b[1;33m)\u001b[0m  \u001b[1;31m#this will not work with three parameter because 3rd parameter may not be available\u001b[0m\u001b[1;33m\u001b[0m\u001b[1;33m\u001b[0m\u001b[0m\n\u001b[0m",
      "\u001b[1;31mTypeError\u001b[0m: <lambda>() missing 1 required positional argument: 'c'"
     ]
    }
   ],
   "source": [
    "reduce(lambda a, b, c: a+b+c, l)  #this will not work with three parameter because 3rd parameter may not be available"
   ]
  },
  {
   "cell_type": "code",
   "execution_count": 83,
   "id": "70a61747",
   "metadata": {},
   "outputs": [
    {
     "data": {
      "text/plain": [
       "7"
      ]
     },
     "execution_count": 83,
     "metadata": {},
     "output_type": "execute_result"
    }
   ],
   "source": [
    "l2 =[7]\n",
    "reduce(lambda a,b : a*b, l2) #works with 1 parameter-Eception- b = 1 "
   ]
  },
  {
   "cell_type": "code",
   "execution_count": null,
   "id": "e3ba70c6",
   "metadata": {},
   "outputs": [],
   "source": [
    "#Filter Operation"
   ]
  },
  {
   "cell_type": "code",
   "execution_count": null,
   "id": "9a733eeb",
   "metadata": {},
   "outputs": [],
   "source": [
    "l = [1,2,3,4,5,6,7]  #even no from list"
   ]
  },
  {
   "cell_type": "code",
   "execution_count": 84,
   "id": "9ecaf854",
   "metadata": {},
   "outputs": [
    {
     "data": {
      "text/plain": [
       "<filter at 0x1d0ed60eeb0>"
      ]
     },
     "execution_count": 84,
     "metadata": {},
     "output_type": "execute_result"
    }
   ],
   "source": [
    "filter(lambda x : x%2, l)"
   ]
  },
  {
   "cell_type": "code",
   "execution_count": 86,
   "id": "a3f9acc5",
   "metadata": {},
   "outputs": [
    {
     "data": {
      "text/plain": [
       "[4, 6, 8]"
      ]
     },
     "execution_count": 86,
     "metadata": {},
     "output_type": "execute_result"
    }
   ],
   "source": [
    "list(filter(lambda x : x%2==0, l))"
   ]
  },
  {
   "cell_type": "code",
   "execution_count": 87,
   "id": "f7a341ec",
   "metadata": {},
   "outputs": [
    {
     "data": {
      "text/plain": [
       "[3, 5, 7, 9]"
      ]
     },
     "execution_count": 87,
     "metadata": {},
     "output_type": "execute_result"
    }
   ],
   "source": [
    "#odd\n",
    "list(filter(lambda x : x%2, l))"
   ]
  },
  {
   "cell_type": "code",
   "execution_count": 88,
   "id": "97039b69",
   "metadata": {},
   "outputs": [],
   "source": [
    "def chk_even(n):\n",
    "    if n%2==0:\n",
    "        return True"
   ]
  },
  {
   "cell_type": "code",
   "execution_count": 89,
   "id": "9831597c",
   "metadata": {},
   "outputs": [
    {
     "data": {
      "text/plain": [
       "[4, 6, 8]"
      ]
     },
     "execution_count": 89,
     "metadata": {},
     "output_type": "execute_result"
    }
   ],
   "source": [
    "list(filter(chk_even,l))"
   ]
  },
  {
   "cell_type": "code",
   "execution_count": 90,
   "id": "ceb910e0",
   "metadata": {},
   "outputs": [],
   "source": [
    "def chk_odd(n):\n",
    "    if n%2:\n",
    "        return True"
   ]
  },
  {
   "cell_type": "code",
   "execution_count": 91,
   "id": "8f1659f5",
   "metadata": {},
   "outputs": [
    {
     "data": {
      "text/plain": [
       "[3, 5, 7, 9]"
      ]
     },
     "execution_count": 91,
     "metadata": {},
     "output_type": "execute_result"
    }
   ],
   "source": [
    "list(filter(chk_odd,l))"
   ]
  },
  {
   "cell_type": "code",
   "execution_count": null,
   "id": "ff80e8f1",
   "metadata": {},
   "outputs": [],
   "source": []
  }
 ],
 "metadata": {
  "kernelspec": {
   "display_name": "Python 3 (ipykernel)",
   "language": "python",
   "name": "python3"
  },
  "language_info": {
   "codemirror_mode": {
    "name": "ipython",
    "version": 3
   },
   "file_extension": ".py",
   "mimetype": "text/x-python",
   "name": "python",
   "nbconvert_exporter": "python",
   "pygments_lexer": "ipython3",
   "version": "3.9.7"
  }
 },
 "nbformat": 4,
 "nbformat_minor": 5
}
