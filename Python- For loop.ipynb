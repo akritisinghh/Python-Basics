{
 "cells": [
  {
   "cell_type": "markdown",
   "id": "6eb9e4b4",
   "metadata": {},
   "source": [
    "# For Loop"
   ]
  },
  {
   "cell_type": "code",
   "execution_count": 58,
   "id": "31b7c5a0",
   "metadata": {},
   "outputs": [],
   "source": [
    "l = [1,2,3,4,\"Akriti\", \"singh\", 78.8]"
   ]
  },
  {
   "cell_type": "code",
   "execution_count": 59,
   "id": "1ac13e75",
   "metadata": {},
   "outputs": [
    {
     "name": "stdout",
     "output_type": "stream",
     "text": [
      "1\n",
      "2\n",
      "3\n",
      "4\n",
      "Akriti\n",
      "singh\n",
      "78.8\n"
     ]
    }
   ],
   "source": [
    "for i in l:\n",
    "    print(i)         # i is local variable"
   ]
  },
  {
   "cell_type": "code",
   "execution_count": 60,
   "id": "e443c068",
   "metadata": {},
   "outputs": [],
   "source": [
    "for i in l:\n",
    "     pass"
   ]
  },
  {
   "cell_type": "code",
   "execution_count": 61,
   "id": "42d043ce",
   "metadata": {},
   "outputs": [
    {
     "name": "stdout",
     "output_type": "stream",
     "text": [
      "A\n",
      "k\n",
      "r\n",
      "i\n",
      "t\n",
      "i\n"
     ]
    }
   ],
   "source": [
    "x = \"Akriti\"\n",
    "for i in x:\n",
    "    print(i)\n",
    "    "
   ]
  },
  {
   "cell_type": "code",
   "execution_count": 62,
   "id": "b3cc78c4",
   "metadata": {},
   "outputs": [
    {
     "name": "stdout",
     "output_type": "stream",
     "text": [
      "91\n",
      "2\n",
      "4\n",
      "5\n"
     ]
    }
   ],
   "source": [
    "x1 = (91,2,4,5)\n",
    "for i in x1:\n",
    "    print(i)"
   ]
  },
  {
   "cell_type": "code",
   "execution_count": 63,
   "id": "a86c1fb0",
   "metadata": {},
   "outputs": [
    {
     "name": "stdout",
     "output_type": "stream",
     "text": [
      "1\n",
      "2\n",
      "3\n",
      "4\n",
      "Akriti\n",
      "singh\n",
      "78.8\n",
      "if for loop is going to complete itself then it will execute else\n"
     ]
    }
   ],
   "source": [
    "for i in l:\n",
    "    print(i)\n",
    "else:\n",
    "    print (\"if for loop is going to complete itself then it will execute else\")"
   ]
  },
  {
   "cell_type": "code",
   "execution_count": 64,
   "id": "2ecbd98d",
   "metadata": {},
   "outputs": [
    {
     "name": "stdout",
     "output_type": "stream",
     "text": [
      "1\n",
      "2\n",
      "3\n"
     ]
    }
   ],
   "source": [
    "for i in l:\n",
    "    if i ==4:\n",
    "        break\n",
    "    print(i)\n",
    "else:\n",
    "    print(\"this will execute only if FOR loop is going to complete itself\")"
   ]
  },
  {
   "cell_type": "code",
   "execution_count": 65,
   "id": "209ee7bf",
   "metadata": {},
   "outputs": [
    {
     "name": "stdout",
     "output_type": "stream",
     "text": [
      "4\n",
      "this will execute only if FOR loop is going to complete itself\n"
     ]
    }
   ],
   "source": [
    "for i in l:\n",
    "    if i ==4:\n",
    "        print(i)\n",
    "else:\n",
    "    print(\"this will execute only if FOR loop is going to complete itself\")"
   ]
  },
  {
   "cell_type": "code",
   "execution_count": 66,
   "id": "99924cd9",
   "metadata": {},
   "outputs": [
    {
     "data": {
      "text/plain": [
       "'Akriti'"
      ]
     },
     "execution_count": 66,
     "metadata": {},
     "output_type": "execute_result"
    }
   ],
   "source": [
    "x"
   ]
  },
  {
   "cell_type": "code",
   "execution_count": 67,
   "id": "9f5665ad",
   "metadata": {},
   "outputs": [
    {
     "name": "stdout",
     "output_type": "stream",
     "text": [
      "A\n",
      "k\n",
      "r\n",
      "i\n"
     ]
    }
   ],
   "source": [
    "for i in x:\n",
    "    if i =='t':\n",
    "        break\n",
    "    print(i)\n",
    "else:\n",
    "    print(\"print sting\", x)"
   ]
  },
  {
   "cell_type": "code",
   "execution_count": 68,
   "id": "cdfb62b3",
   "metadata": {},
   "outputs": [
    {
     "name": "stdout",
     "output_type": "stream",
     "text": [
      "A\n",
      "k\n",
      "r\n",
      "i\n",
      "t\n",
      "i\n",
      "print sting Akriti\n"
     ]
    }
   ],
   "source": [
    "for i in x:\n",
    "    if i =='z':\n",
    "        break\n",
    "    print(i)\n",
    "else:\n",
    "    print(\"print sting\", x)"
   ]
  },
  {
   "cell_type": "code",
   "execution_count": 69,
   "id": "32c122b1",
   "metadata": {},
   "outputs": [
    {
     "name": "stdout",
     "output_type": "stream",
     "text": [
      "4\n",
      "5\n",
      "6\n",
      "7\n",
      "8\n",
      "9\n",
      "Akriti\n"
     ]
    }
   ],
   "source": [
    "t = (4,5,6,7,8,9,\"Akriti\")\n",
    "for i in t:\n",
    "    print(i)"
   ]
  },
  {
   "cell_type": "code",
   "execution_count": 70,
   "id": "32ca210c",
   "metadata": {},
   "outputs": [
    {
     "name": "stdout",
     "output_type": "stream",
     "text": [
      "4\n",
      "5\n",
      "6\n",
      "7\n",
      "8\n",
      "9\n",
      "Akriti\n"
     ]
    }
   ],
   "source": [
    "b = {4,5,6,7,8,7,9,\"Akriti\"}            # remove duplicate values\n",
    "for i in b:\n",
    "    print(i)"
   ]
  },
  {
   "cell_type": "code",
   "execution_count": 71,
   "id": "9456d285",
   "metadata": {},
   "outputs": [
    {
     "name": "stdout",
     "output_type": "stream",
     "text": [
      "key1\n",
      "contact\n",
      "position\n"
     ]
    }
   ],
   "source": [
    "d = {'key1': \"Akriti\", 'contact': \"akritisingh1234\", 'position': \"data analyst\"}\n",
    "for i in d:\n",
    "    print(i)"
   ]
  },
  {
   "cell_type": "code",
   "execution_count": 72,
   "id": "b11992f0",
   "metadata": {},
   "outputs": [
    {
     "data": {
      "text/plain": [
       "'Akriti'"
      ]
     },
     "execution_count": 72,
     "metadata": {},
     "output_type": "execute_result"
    }
   ],
   "source": [
    "d['key1']"
   ]
  },
  {
   "cell_type": "code",
   "execution_count": 73,
   "id": "e8a94399",
   "metadata": {},
   "outputs": [
    {
     "name": "stdout",
     "output_type": "stream",
     "text": [
      "Akriti\n",
      "akritisingh1234\n",
      "data analyst\n"
     ]
    }
   ],
   "source": [
    "d = {'key1': \"Akriti\", 'contact': \"akritisingh1234\", 'position': \"data analyst\"}\n",
    "for i in d:\n",
    "    print(d[i])"
   ]
  },
  {
   "cell_type": "code",
   "execution_count": 74,
   "id": "d4e17a5d",
   "metadata": {},
   "outputs": [
    {
     "name": "stdout",
     "output_type": "stream",
     "text": [
      "Akriti key1\n",
      "akritisingh1234 contact\n",
      "data analyst position\n"
     ]
    }
   ],
   "source": [
    "d = {'key1': \"Akriti\", 'contact': \"akritisingh1234\", 'position': \"data analyst\"}\n",
    "for i in d:\n",
    "    print(d[i], i)"
   ]
  },
  {
   "cell_type": "code",
   "execution_count": 75,
   "id": "ac8dc16d",
   "metadata": {},
   "outputs": [
    {
     "data": {
      "text/plain": [
       "range(0, 9)"
      ]
     },
     "execution_count": 75,
     "metadata": {},
     "output_type": "execute_result"
    }
   ],
   "source": [
    "range(9)"
   ]
  },
  {
   "cell_type": "code",
   "execution_count": 76,
   "id": "9c1a9ab9",
   "metadata": {},
   "outputs": [
    {
     "data": {
      "text/plain": [
       "[0, 1, 2, 3, 4, 5, 6, 7, 8]"
      ]
     },
     "execution_count": 76,
     "metadata": {},
     "output_type": "execute_result"
    }
   ],
   "source": [
    "list(range(9))"
   ]
  },
  {
   "cell_type": "code",
   "execution_count": 77,
   "id": "b989e40b",
   "metadata": {},
   "outputs": [
    {
     "name": "stdout",
     "output_type": "stream",
     "text": [
      "0\n",
      "1\n",
      "2\n",
      "3\n",
      "4\n",
      "5\n",
      "6\n",
      "7\n",
      "8\n"
     ]
    }
   ],
   "source": [
    "for i in range(9):\n",
    "    print(i)"
   ]
  },
  {
   "cell_type": "code",
   "execution_count": 78,
   "id": "3ceef9bc",
   "metadata": {},
   "outputs": [
    {
     "data": {
      "text/plain": [
       "[0, 2, 4, 6, 8]"
      ]
     },
     "execution_count": 78,
     "metadata": {},
     "output_type": "execute_result"
    }
   ],
   "source": [
    "list(range(0,9,2))"
   ]
  },
  {
   "cell_type": "code",
   "execution_count": 79,
   "id": "da63b9a3",
   "metadata": {},
   "outputs": [
    {
     "data": {
      "text/plain": [
       "[]"
      ]
     },
     "execution_count": 79,
     "metadata": {},
     "output_type": "execute_result"
    }
   ],
   "source": [
    "list(range(0,9,-1))"
   ]
  },
  {
   "cell_type": "code",
   "execution_count": 80,
   "id": "c808135f",
   "metadata": {},
   "outputs": [
    {
     "data": {
      "text/plain": [
       "[9, 8, 7, 6, 5, 4, 3, 2, 1]"
      ]
     },
     "execution_count": 80,
     "metadata": {},
     "output_type": "execute_result"
    }
   ],
   "source": [
    "list(range(9,0,-1))"
   ]
  },
  {
   "cell_type": "code",
   "execution_count": 81,
   "id": "3b2b672f",
   "metadata": {},
   "outputs": [
    {
     "name": "stdout",
     "output_type": "stream",
     "text": [
      "@kk! \n",
      "\n",
      "@kk! @kk! \n",
      "\n",
      "@kk! @kk! @kk! \n",
      "\n",
      "@kk! @kk! @kk! @kk! \n",
      "\n"
     ]
    }
   ],
   "source": [
    "n = 4\n",
    "for i in range(4):\n",
    "    for j in range(0, i+1):\n",
    "        print(\"@kk!\", end = \" \")\n",
    "    print(\"\\n\")"
   ]
  },
  {
   "cell_type": "code",
   "execution_count": 82,
   "id": "5f48f307",
   "metadata": {},
   "outputs": [
    {
     "name": "stdout",
     "output_type": "stream",
     "text": [
      "Enter your patter no: 4\n",
      "   * \n",
      "  * * \n",
      " * * * \n",
      "* * * * \n"
     ]
    }
   ],
   "source": [
    "n = int(input(\"Enter your patter no: \"))\n",
    "for i in range (n):\n",
    "    for j in range(n-i-1):\n",
    "        print(end = \" \")\n",
    "    for j in range(i+1):\n",
    "        print(\"*\", end = \" \")\n",
    "    print()"
   ]
  },
  {
   "cell_type": "code",
   "execution_count": 83,
   "id": "77c08556",
   "metadata": {},
   "outputs": [
    {
     "name": "stdout",
     "output_type": "stream",
     "text": [
      "Enter your patter no: 4\n",
      "* * * * \n",
      "* * *   \n",
      "* *     \n",
      "*       \n"
     ]
    }
   ],
   "source": [
    "n = int(input(\"Enter your patter no: \"))\n",
    "for i in range(n):\n",
    "    for j in range (n-i):\n",
    "        print(\"*\", end = \" \")\n",
    "    for j in range (i):\n",
    "        print(end = \"  \")\n",
    "    print()"
   ]
  },
  {
   "cell_type": "code",
   "execution_count": 84,
   "id": "40f6e303",
   "metadata": {},
   "outputs": [
    {
     "data": {
      "text/plain": [
       "10"
      ]
     },
     "execution_count": 84,
     "metadata": {},
     "output_type": "execute_result"
    }
   ],
   "source": [
    "t = (2,3,4,7,3,23,56,7,9,5)\n",
    "len(t)"
   ]
  },
  {
   "cell_type": "code",
   "execution_count": 85,
   "id": "761d3f82",
   "metadata": {},
   "outputs": [
    {
     "name": "stdout",
     "output_type": "stream",
     "text": [
      "0  :  2\n",
      "1  :  3\n",
      "2  :  4\n",
      "3  :  7\n",
      "4  :  3\n",
      "5  :  23\n",
      "6  :  56\n",
      "7  :  7\n",
      "8  :  9\n",
      "9  :  5\n"
     ]
    }
   ],
   "source": [
    "for i in range(len(t)):\n",
    "    print(i, \" : \", t[i])"
   ]
  },
  {
   "cell_type": "code",
   "execution_count": 86,
   "id": "0a1cd0b0",
   "metadata": {},
   "outputs": [
    {
     "data": {
      "text/plain": [
       "'hgniS itirk'"
      ]
     },
     "execution_count": 86,
     "metadata": {},
     "output_type": "execute_result"
    }
   ],
   "source": [
    "s = \"Akriti Singh\"\n",
    "range(len(s))\n",
    "s[12:0:-1]"
   ]
  },
  {
   "cell_type": "code",
   "execution_count": 87,
   "id": "0264a11f",
   "metadata": {},
   "outputs": [
    {
     "name": "stdout",
     "output_type": "stream",
     "text": [
      "0 : A\n",
      "1 : k\n",
      "2 : r\n",
      "3 : i\n",
      "4 : t\n",
      "5 : i\n",
      "6 :  \n",
      "7 : S\n",
      "8 : i\n",
      "9 : n\n",
      "10 : g\n",
      "11 : h\n"
     ]
    }
   ],
   "source": [
    "for i in range(len(s)):\n",
    "    print(i, \":\", s[i])"
   ]
  },
  {
   "cell_type": "code",
   "execution_count": 88,
   "id": "a2198969",
   "metadata": {},
   "outputs": [
    {
     "name": "stdout",
     "output_type": "stream",
     "text": [
      "11 : h\n",
      "10 : g\n",
      "9 : n\n",
      "8 : i\n",
      "7 : S\n",
      "6 :  \n",
      "5 : i\n",
      "4 : t\n",
      "3 : i\n",
      "2 : r\n",
      "1 : k\n",
      "0 : A\n"
     ]
    }
   ],
   "source": [
    "for i in range(len(s),0,-1):\n",
    "    print(i-1, \":\", s[i-1])"
   ]
  },
  {
   "cell_type": "code",
   "execution_count": 89,
   "id": "7b58d3ea",
   "metadata": {},
   "outputs": [
    {
     "name": "stdout",
     "output_type": "stream",
     "text": [
      "11 : h\n",
      "10 : g\n",
      "9 : n\n",
      "8 : i\n",
      "7 : S\n",
      "6 :  \n",
      "5 : i\n",
      "4 : t\n",
      "3 : i\n",
      "2 : r\n",
      "1 : k\n",
      "0 : A\n"
     ]
    }
   ],
   "source": [
    "for i in range(len(s)-1,-1,-1):\n",
    "    print(i, \":\", s[i])"
   ]
  },
  {
   "cell_type": "code",
   "execution_count": 90,
   "id": "286620c3",
   "metadata": {},
   "outputs": [],
   "source": [
    "d = {'key1': \"Akriti\", 'contact': \"akritisingh1234\", 'position': \"data analyst\"}"
   ]
  },
  {
   "cell_type": "code",
   "execution_count": 91,
   "id": "c5295cb3",
   "metadata": {},
   "outputs": [
    {
     "data": {
      "text/plain": [
       "3"
      ]
     },
     "execution_count": 91,
     "metadata": {},
     "output_type": "execute_result"
    }
   ],
   "source": [
    "len(d)"
   ]
  },
  {
   "cell_type": "code",
   "execution_count": 93,
   "id": "010da142",
   "metadata": {},
   "outputs": [
    {
     "data": {
      "text/plain": [
       "dict_items([('key1', 'Akriti'), ('contact', 'akritisingh1234'), ('position', 'data analyst')])"
      ]
     },
     "execution_count": 93,
     "metadata": {},
     "output_type": "execute_result"
    }
   ],
   "source": [
    "d.items()"
   ]
  },
  {
   "cell_type": "code",
   "execution_count": 94,
   "id": "85475d25",
   "metadata": {},
   "outputs": [
    {
     "data": {
      "text/plain": [
       "dict_keys(['key1', 'contact', 'position'])"
      ]
     },
     "execution_count": 94,
     "metadata": {},
     "output_type": "execute_result"
    }
   ],
   "source": [
    "d.keys()"
   ]
  },
  {
   "cell_type": "code",
   "execution_count": 95,
   "id": "c3766c7d",
   "metadata": {},
   "outputs": [
    {
     "name": "stdout",
     "output_type": "stream",
     "text": [
      "('key1', 'Akriti')\n",
      "('contact', 'akritisingh1234')\n",
      "('position', 'data analyst')\n"
     ]
    }
   ],
   "source": [
    "for i in d.items():\n",
    "    print (i)"
   ]
  },
  {
   "cell_type": "code",
   "execution_count": 97,
   "id": "bb332121",
   "metadata": {},
   "outputs": [
    {
     "name": "stdout",
     "output_type": "stream",
     "text": [
      "('key1', 'Akriti') <class 'tuple'> <class 'str'>\n",
      "('contact', 'akritisingh1234') <class 'tuple'> <class 'str'>\n",
      "('position', 'data analyst') <class 'tuple'> <class 'str'>\n"
     ]
    }
   ],
   "source": [
    "for i in d.items():\n",
    "    print (i, type(i),type(i[1]))"
   ]
  },
  {
   "cell_type": "code",
   "execution_count": 98,
   "id": "dddd8cd5",
   "metadata": {},
   "outputs": [],
   "source": [
    "l1 = [\"Akriti\", \"Singh\", 1324453,4,6,\"python\", 567,6789]"
   ]
  },
  {
   "cell_type": "code",
   "execution_count": 106,
   "id": "b13bca06",
   "metadata": {},
   "outputs": [
    {
     "name": "stdout",
     "output_type": "stream",
     "text": [
      "[1324453, 4, 6, 567, 6789]\n"
     ]
    }
   ],
   "source": [
    "l2 = []\n",
    "for i in l1:\n",
    "    if type(i)==int:\n",
    "        l2.append(i)\n",
    "print(l2)\n"
   ]
  },
  {
   "cell_type": "code",
   "execution_count": 108,
   "id": "e0e0deb7",
   "metadata": {},
   "outputs": [],
   "source": [
    "d ={1: 234235, \"name\": \"Akriti\", \"emal\": \"@gmail\", 134: \"ergfg\", \"657\": \"dfsfgfhg\", 4556: 5677}"
   ]
  },
  {
   "cell_type": "code",
   "execution_count": 110,
   "id": "5667862c",
   "metadata": {},
   "outputs": [
    {
     "name": "stdout",
     "output_type": "stream",
     "text": [
      "1 : 234235\n",
      "134 : ergfg\n",
      "4556 : 5677\n"
     ]
    }
   ],
   "source": [
    "for  i in d:\n",
    "    if type(i)== int:\n",
    "        print(i, \":\", d[i])"
   ]
  },
  {
   "cell_type": "code",
   "execution_count": 113,
   "id": "c4b6c9e5",
   "metadata": {},
   "outputs": [
    {
     "data": {
      "text/plain": [
       "{'a', 'b', 'c', 'd'}"
      ]
     },
     "execution_count": 113,
     "metadata": {},
     "output_type": "execute_result"
    }
   ],
   "source": [
    "s = \"aaaabbccddd\"\n",
    "set(s)"
   ]
  },
  {
   "cell_type": "code",
   "execution_count": 114,
   "id": "131728ab",
   "metadata": {},
   "outputs": [
    {
     "name": "stdout",
     "output_type": "stream",
     "text": [
      "a : 4\n",
      "c : 2\n",
      "b : 2\n",
      "d : 3\n"
     ]
    }
   ],
   "source": [
    "for i in set(s):\n",
    "    print(i, \":\", s.count(i))"
   ]
  },
  {
   "cell_type": "code",
   "execution_count": 118,
   "id": "97f1c144",
   "metadata": {},
   "outputs": [
    {
     "ename": "TypeError",
     "evalue": "'int' object is not iterable",
     "output_type": "error",
     "traceback": [
      "\u001b[1;31m---------------------------------------------------------------------------\u001b[0m",
      "\u001b[1;31mTypeError\u001b[0m                                 Traceback (most recent call last)",
      "\u001b[1;32m~\\AppData\\Local\\Temp/ipykernel_13812/3328132211.py\u001b[0m in \u001b[0;36m<module>\u001b[1;34m\u001b[0m\n\u001b[0;32m      1\u001b[0m \u001b[0mi\u001b[0m \u001b[1;33m=\u001b[0m \u001b[1;36m344533456744567335577\u001b[0m\u001b[1;33m\u001b[0m\u001b[1;33m\u001b[0m\u001b[0m\n\u001b[1;32m----> 2\u001b[1;33m \u001b[1;32mfor\u001b[0m \u001b[0mj\u001b[0m \u001b[1;32min\u001b[0m \u001b[0mi\u001b[0m\u001b[1;33m:\u001b[0m\u001b[1;33m\u001b[0m\u001b[1;33m\u001b[0m\u001b[0m\n\u001b[0m\u001b[0;32m      3\u001b[0m    \u001b[0mprint\u001b[0m\u001b[1;33m(\u001b[0m\u001b[0mi\u001b[0m\u001b[1;33m)\u001b[0m\u001b[1;33m\u001b[0m\u001b[1;33m\u001b[0m\u001b[0m\n",
      "\u001b[1;31mTypeError\u001b[0m: 'int' object is not iterable"
     ]
    }
   ],
   "source": [
    " i = 344533456744567335577\n",
    "for j in i:\n",
    "    print(i)           # integers are not iterable"
   ]
  },
  {
   "cell_type": "code",
   "execution_count": 123,
   "id": "af2ba71d",
   "metadata": {},
   "outputs": [
    {
     "name": "stdout",
     "output_type": "stream",
     "text": [
      "3 <class 'int'>\n",
      "4 <class 'int'>\n",
      "4 <class 'int'>\n",
      "5 <class 'int'>\n",
      "3 <class 'int'>\n",
      "3 <class 'int'>\n",
      "4 <class 'int'>\n",
      "5 <class 'int'>\n",
      "6 <class 'int'>\n",
      "7 <class 'int'>\n",
      "4 <class 'int'>\n",
      "4 <class 'int'>\n",
      "5 <class 'int'>\n",
      "6 <class 'int'>\n",
      "7 <class 'int'>\n",
      "3 <class 'int'>\n",
      "3 <class 'int'>\n",
      "5 <class 'int'>\n",
      "5 <class 'int'>\n",
      "7 <class 'int'>\n",
      "7 <class 'int'>\n"
     ]
    }
   ],
   "source": [
    " i = 344533456744567335577    \n",
    "for j in str(i):\n",
    "    print(int(j), type(int(j)))"
   ]
  },
  {
   "cell_type": "code",
   "execution_count": 139,
   "id": "7a17ac19",
   "metadata": {},
   "outputs": [],
   "source": [
    "t = (\"akriti\",\"singh\",[3,4,6,9,7,8,9],(3,4,6,8), {3:\"v1\",\"k2\":\"v2\"})"
   ]
  },
  {
   "cell_type": "code",
   "execution_count": 140,
   "id": "09dbf096",
   "metadata": {},
   "outputs": [
    {
     "name": "stdout",
     "output_type": "stream",
     "text": [
      "3\n",
      "3\n",
      "3\n"
     ]
    }
   ],
   "source": [
    "for i in t:\n",
    "    if type(i)==list or type(i)==tuple or type(i)==dict:\n",
    "        for j in i:\n",
    "            if j==3:\n",
    "                print(j)"
   ]
  },
  {
   "cell_type": "code",
   "execution_count": 141,
   "id": "3ae757a1",
   "metadata": {},
   "outputs": [],
   "source": [
    "t1 = (\"akriti\",\"singh\",[3,4,6,9,7,8,9],(3,4,6,8), {3:3,\"k2\":\"v2\"})"
   ]
  },
  {
   "cell_type": "code",
   "execution_count": 145,
   "id": "9ef2821e",
   "metadata": {},
   "outputs": [
    {
     "name": "stdout",
     "output_type": "stream",
     "text": [
      "3\n",
      "3\n",
      "3 3\n"
     ]
    }
   ],
   "source": [
    "for i in t1:\n",
    "    if type(i)==list or type(i)==tuple:\n",
    "        for j in i:\n",
    "            if j==3:\n",
    "                print(j)\n",
    "    if type(i)==dict:\n",
    "        for k,v in i.items():\n",
    "            if k==3 or v==3:\n",
    "                print(k,v)"
   ]
  },
  {
   "cell_type": "code",
   "execution_count": null,
   "id": "3b2bae9e",
   "metadata": {},
   "outputs": [],
   "source": []
  }
 ],
 "metadata": {
  "kernelspec": {
   "display_name": "Python 3 (ipykernel)",
   "language": "python",
   "name": "python3"
  },
  "language_info": {
   "codemirror_mode": {
    "name": "ipython",
    "version": 3
   },
   "file_extension": ".py",
   "mimetype": "text/x-python",
   "name": "python",
   "nbconvert_exporter": "python",
   "pygments_lexer": "ipython3",
   "version": "3.9.7"
  }
 },
 "nbformat": 4,
 "nbformat_minor": 5
}
